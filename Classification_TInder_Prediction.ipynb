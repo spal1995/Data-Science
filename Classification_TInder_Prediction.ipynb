{
 "cells": [
  {
   "cell_type": "markdown",
   "id": "80914304-0c31-4e05-9f15-68516b4d65f3",
   "metadata": {},
   "source": [
    "**Tinder Relationship Prediction : A Classification Problem**\n",
    "---"
   ]
  },
  {
   "cell_type": "markdown",
   "id": "83cfc19e-3efc-4570-a54e-3fddc281985a",
   "metadata": {},
   "source": [
    "---\n",
    "**PROBLEM STATEMENT : If a relationship will be successful or not with respect to various factors such as 'Medium of Usage', 'Name of Universities', 'Answer to : Do you use tinder ?', 'Count of Tinder Match', 'Percentage of Tinder Match'.**"
   ]
  },
  {
   "cell_type": "markdown",
   "id": "a89d6f46-1253-453b-ac63-34b2a05f67b0",
   "metadata": {},
   "source": [
    "## Importing the Libraries and Datasets\n",
    "---"
   ]
  },
  {
   "cell_type": "code",
   "execution_count": 40,
   "id": "f7ca46fb-de4e-4e20-835e-6a58c30f7591",
   "metadata": {},
   "outputs": [],
   "source": [
    "# Import necessary library\n",
    "import pandas as pd \n",
    "import numpy as np \n",
    "import matplotlib.pyplot as plt \n",
    "import seaborn as sns \n",
    "from scipy.stats import ttest_ind\n",
    "\n",
    "%matplotlib inline"
   ]
  },
  {
   "cell_type": "markdown",
   "id": "c5503747-552c-4bf7-8149-8b27318c2e8f",
   "metadata": {},
   "source": [
    "### First glance of the data\n",
    "---"
   ]
  },
  {
   "cell_type": "markdown",
   "id": "eabd3164-bad2-4982-9e78-ccd0c087ce64",
   "metadata": {},
   "source": [
    "#### Training Set"
   ]
  },
  {
   "cell_type": "code",
   "execution_count": 41,
   "id": "3f3e878f-ac6f-4454-9b95-fd676c83a9db",
   "metadata": {},
   "outputs": [
    {
     "data": {
      "text/html": [
       "<div>\n",
       "<style scoped>\n",
       "    .dataframe tbody tr th:only-of-type {\n",
       "        vertical-align: middle;\n",
       "    }\n",
       "\n",
       "    .dataframe tbody tr th {\n",
       "        vertical-align: top;\n",
       "    }\n",
       "\n",
       "    .dataframe thead th {\n",
       "        text-align: right;\n",
       "    }\n",
       "</style>\n",
       "<table border=\"1\" class=\"dataframe\">\n",
       "  <thead>\n",
       "    <tr style=\"text-align: right;\">\n",
       "      <th></th>\n",
       "      <th>ID</th>\n",
       "      <th>Segment type</th>\n",
       "      <th>Segment Description</th>\n",
       "      <th>Answer</th>\n",
       "      <th>Count</th>\n",
       "      <th>Percentage</th>\n",
       "      <th>It became a relationship</th>\n",
       "    </tr>\n",
       "  </thead>\n",
       "  <tbody>\n",
       "    <tr>\n",
       "      <th>0</th>\n",
       "      <td>292890.8970</td>\n",
       "      <td>web</td>\n",
       "      <td>Meridian, Idaho</td>\n",
       "      <td>No</td>\n",
       "      <td>0.000000</td>\n",
       "      <td>0.000000</td>\n",
       "      <td>0</td>\n",
       "    </tr>\n",
       "    <tr>\n",
       "      <th>1</th>\n",
       "      <td>292887.9870</td>\n",
       "      <td>web</td>\n",
       "      <td>Meridian, Idaho</td>\n",
       "      <td>No</td>\n",
       "      <td>0.000000</td>\n",
       "      <td>0.000000</td>\n",
       "      <td>0</td>\n",
       "    </tr>\n",
       "    <tr>\n",
       "      <th>2</th>\n",
       "      <td>292894.0656</td>\n",
       "      <td>gender</td>\n",
       "      <td>Meridian, Idaho</td>\n",
       "      <td>No</td>\n",
       "      <td>499.173606</td>\n",
       "      <td>0.225255</td>\n",
       "      <td>0</td>\n",
       "    </tr>\n",
       "    <tr>\n",
       "      <th>3</th>\n",
       "      <td>292887.1180</td>\n",
       "      <td>web</td>\n",
       "      <td>Meridian, Idaho</td>\n",
       "      <td>No</td>\n",
       "      <td>0.000000</td>\n",
       "      <td>0.000000</td>\n",
       "      <td>0</td>\n",
       "    </tr>\n",
       "    <tr>\n",
       "      <th>4</th>\n",
       "      <td>292893.6561</td>\n",
       "      <td>gender</td>\n",
       "      <td>Meridian, Idaho</td>\n",
       "      <td>No</td>\n",
       "      <td>455.925963</td>\n",
       "      <td>0.211360</td>\n",
       "      <td>0</td>\n",
       "    </tr>\n",
       "  </tbody>\n",
       "</table>\n",
       "</div>"
      ],
      "text/plain": [
       "            ID Segment type Segment Description Answer       Count  \\\n",
       "0  292890.8970          web     Meridian, Idaho     No    0.000000   \n",
       "1  292887.9870          web     Meridian, Idaho     No    0.000000   \n",
       "2  292894.0656       gender     Meridian, Idaho     No  499.173606   \n",
       "3  292887.1180          web     Meridian, Idaho     No    0.000000   \n",
       "4  292893.6561       gender     Meridian, Idaho     No  455.925963   \n",
       "\n",
       "   Percentage  It became a relationship  \n",
       "0    0.000000                         0  \n",
       "1    0.000000                         0  \n",
       "2    0.225255                         0  \n",
       "3    0.000000                         0  \n",
       "4    0.211360                         0  "
      ]
     },
     "execution_count": 41,
     "metadata": {},
     "output_type": "execute_result"
    }
   ],
   "source": [
    "# Train data\n",
    "df_class_train = pd.read_csv('train.csv')\n",
    "df_class_train.head()"
   ]
  },
  {
   "cell_type": "markdown",
   "id": "b9e0e04d-474b-462a-b7b8-f8fd40ebf322",
   "metadata": {},
   "source": [
    "#### Data Description\n",
    "----------------\n",
    "\n",
    "* ID : User id\n",
    "\n",
    "* Segment type : Medium of Usage\n",
    "\n",
    "* Segment Description : Name of Universities\n",
    "\n",
    "* Answer : Do you use tinder ?\n",
    "\n",
    "* Count : Number of Matches\n",
    "\n",
    "* Percentage : % of matches (the value ranges from 0 to 1 as it is not multiplied with 100)\n",
    "\n",
    "* It became a relationship : Success of relationship (Target)"
   ]
  },
  {
   "cell_type": "markdown",
   "id": "cb70e685-aae6-465e-a863-ecd0edeb1c5c",
   "metadata": {},
   "source": [
    "## Analysis on Training Set\n",
    "---"
   ]
  },
  {
   "cell_type": "code",
   "execution_count": 42,
   "id": "feb0be8d-d8b5-46cd-8277-296a9e22e72a",
   "metadata": {},
   "outputs": [
    {
     "name": "stdout",
     "output_type": "stream",
     "text": [
      "<class 'pandas.core.frame.DataFrame'>\n",
      "RangeIndex: 1896 entries, 0 to 1895\n",
      "Data columns (total 7 columns):\n",
      " #   Column                    Non-Null Count  Dtype  \n",
      "---  ------                    --------------  -----  \n",
      " 0   ID                        1896 non-null   float64\n",
      " 1   Segment type              1896 non-null   object \n",
      " 2   Segment Description       1896 non-null   object \n",
      " 3   Answer                    1896 non-null   object \n",
      " 4   Count                     1896 non-null   float64\n",
      " 5   Percentage                1896 non-null   float64\n",
      " 6   It became a relationship  1896 non-null   int64  \n",
      "dtypes: float64(3), int64(1), object(3)\n",
      "memory usage: 103.8+ KB\n"
     ]
    }
   ],
   "source": [
    "# Check data types of the columns of the dataset\n",
    "df_class_train.info()"
   ]
  },
  {
   "cell_type": "code",
   "execution_count": 43,
   "id": "17b2fca5-72ba-4423-a0b8-774cf2f65fea",
   "metadata": {},
   "outputs": [
    {
     "data": {
      "text/plain": [
       "(1896, 7)"
      ]
     },
     "execution_count": 43,
     "metadata": {},
     "output_type": "execute_result"
    }
   ],
   "source": [
    "# Check the dimension of the training set\n",
    "df_class_train.shape"
   ]
  },
  {
   "cell_type": "code",
   "execution_count": 44,
   "id": "17fe0d28-a41c-4b0f-ac5e-c79bf2efb5ec",
   "metadata": {},
   "outputs": [
    {
     "data": {
      "text/plain": [
       "ID                          0\n",
       "Segment type                0\n",
       "Segment Description         0\n",
       "Answer                      0\n",
       "Count                       0\n",
       "Percentage                  0\n",
       "It became a relationship    0\n",
       "dtype: int64"
      ]
     },
     "execution_count": 44,
     "metadata": {},
     "output_type": "execute_result"
    }
   ],
   "source": [
    "# Check the Null value count of the training set\n",
    "df_class_train.isnull().sum()"
   ]
  },
  {
   "cell_type": "code",
   "execution_count": 45,
   "id": "c4ad109a-ef6a-47a4-9354-9694f84fd884",
   "metadata": {},
   "outputs": [
    {
     "data": {
      "text/html": [
       "<div>\n",
       "<style scoped>\n",
       "    .dataframe tbody tr th:only-of-type {\n",
       "        vertical-align: middle;\n",
       "    }\n",
       "\n",
       "    .dataframe tbody tr th {\n",
       "        vertical-align: top;\n",
       "    }\n",
       "\n",
       "    .dataframe thead th {\n",
       "        text-align: right;\n",
       "    }\n",
       "</style>\n",
       "<table border=\"1\" class=\"dataframe\">\n",
       "  <thead>\n",
       "    <tr style=\"text-align: right;\">\n",
       "      <th></th>\n",
       "      <th>ID</th>\n",
       "      <th>Count</th>\n",
       "      <th>Percentage</th>\n",
       "      <th>It became a relationship</th>\n",
       "    </tr>\n",
       "  </thead>\n",
       "  <tbody>\n",
       "    <tr>\n",
       "      <th>count</th>\n",
       "      <td>1896.000000</td>\n",
       "      <td>1896.000000</td>\n",
       "      <td>1896.000000</td>\n",
       "      <td>1896.000000</td>\n",
       "    </tr>\n",
       "    <tr>\n",
       "      <th>mean</th>\n",
       "      <td>292999.394750</td>\n",
       "      <td>446.881267</td>\n",
       "      <td>0.254098</td>\n",
       "      <td>0.350738</td>\n",
       "    </tr>\n",
       "    <tr>\n",
       "      <th>std</th>\n",
       "      <td>227.809806</td>\n",
       "      <td>494.110578</td>\n",
       "      <td>0.220809</td>\n",
       "      <td>0.477327</td>\n",
       "    </tr>\n",
       "    <tr>\n",
       "      <th>min</th>\n",
       "      <td>292881.000000</td>\n",
       "      <td>0.000000</td>\n",
       "      <td>0.000000</td>\n",
       "      <td>0.000000</td>\n",
       "    </tr>\n",
       "    <tr>\n",
       "      <th>25%</th>\n",
       "      <td>292888.196925</td>\n",
       "      <td>0.000000</td>\n",
       "      <td>0.000000</td>\n",
       "      <td>0.000000</td>\n",
       "    </tr>\n",
       "    <tr>\n",
       "      <th>50%</th>\n",
       "      <td>292893.904400</td>\n",
       "      <td>400.439633</td>\n",
       "      <td>0.257873</td>\n",
       "      <td>0.000000</td>\n",
       "    </tr>\n",
       "    <tr>\n",
       "      <th>75%</th>\n",
       "      <td>292902.568750</td>\n",
       "      <td>845.560798</td>\n",
       "      <td>0.396787</td>\n",
       "      <td>1.000000</td>\n",
       "    </tr>\n",
       "    <tr>\n",
       "      <th>max</th>\n",
       "      <td>293785.000000</td>\n",
       "      <td>1969.000000</td>\n",
       "      <td>1.000000</td>\n",
       "      <td>1.000000</td>\n",
       "    </tr>\n",
       "  </tbody>\n",
       "</table>\n",
       "</div>"
      ],
      "text/plain": [
       "                  ID        Count   Percentage  It became a relationship\n",
       "count    1896.000000  1896.000000  1896.000000               1896.000000\n",
       "mean   292999.394750   446.881267     0.254098                  0.350738\n",
       "std       227.809806   494.110578     0.220809                  0.477327\n",
       "min    292881.000000     0.000000     0.000000                  0.000000\n",
       "25%    292888.196925     0.000000     0.000000                  0.000000\n",
       "50%    292893.904400   400.439633     0.257873                  0.000000\n",
       "75%    292902.568750   845.560798     0.396787                  1.000000\n",
       "max    293785.000000  1969.000000     1.000000                  1.000000"
      ]
     },
     "execution_count": 45,
     "metadata": {},
     "output_type": "execute_result"
    }
   ],
   "source": [
    "# Check the summary statistics of the training set\n",
    "df_class_train.describe()"
   ]
  },
  {
   "cell_type": "markdown",
   "id": "7e1aa30d-570a-4183-9006-9e616ab8eb00",
   "metadata": {},
   "source": [
    "Remarks:\n",
    "* There are no missing values for the numerical columns as the dimension of the dataset is (1896 , 7) and the count seen for every column here is 1896.\n",
    "* From the mean value(0.350738) of the column \"It became a relationship\" we can indicate that 30% of the values are 1s, and 70% are 0s.\n",
    "* For the columns 'Count' : the mean and median(50%) has a difference of 46, which is relatively small compared to the standard deviation of 494. This means that although there might be some skewness, the large variability might mask it.\n",
    "* For the columns 'Percentage' : We see a very small difference between the mean and median which suggests that the distribution is not significantly skewed. The standard deviation (0.220809) indicates the spread of the data around the mean."
   ]
  },
  {
   "cell_type": "code",
   "execution_count": 46,
   "id": "425734be-a76c-44df-a1b5-ca873cc534e9",
   "metadata": {},
   "outputs": [
    {
     "name": "stdout",
     "output_type": "stream",
     "text": [
      "Skewness coefficient of the column Count : 0.7163670844235213\n",
      "Skewness coefficient of the column Percentage : 0.8169399719310787\n"
     ]
    }
   ],
   "source": [
    "# Skewness of the columns 'Count' and 'Percentage'\n",
    "\n",
    "skew_Count = df_class_train['Count'].skew()\n",
    "skew_Percentage = df_class_train['Percentage'].skew()\n",
    "\n",
    "print (f'Skewness coefficient of the column Count : {skew_Count}')\n",
    "print (f'Skewness coefficient of the column Percentage : {skew_Percentage}')"
   ]
  },
  {
   "cell_type": "markdown",
   "id": "0c0d44b2-3f2f-46ef-bf19-3a24e70747c1",
   "metadata": {},
   "source": [
    "Remarks : \n",
    "* We see both the columns(Count and Percentage) are mildly right skewed as the skewness value is positive. We need to see if we can clean the data and make the column 'Count' normality distributed.\n",
    "---"
   ]
  },
  {
   "cell_type": "markdown",
   "id": "fc51ad96-f62b-4fb8-aa2d-47f9ca37c1d6",
   "metadata": {},
   "source": [
    "## Data Exploration of the Numerical Columns\n",
    "---"
   ]
  },
  {
   "cell_type": "code",
   "execution_count": 47,
   "id": "6d1db933-378b-45c7-bd2c-e07c72f7b10b",
   "metadata": {},
   "outputs": [
    {
     "data": {
      "text/plain": [
       "(1318, 7)"
      ]
     },
     "execution_count": 47,
     "metadata": {},
     "output_type": "execute_result"
    }
   ],
   "source": [
    "# We are removing the datapoint where the 'Count' is 0 because to have a successful or a unsuccessful relationship\n",
    "# the first step  is to have a Match (Column : Count denotes NUMBER OF MATCHES).\n",
    "\n",
    "data_cleaned = df_class_train[df_class_train['Count'] != 0]\n",
    "\n",
    "# Dimension of the cleaned dataset\n",
    "data_cleaned.shape"
   ]
  },
  {
   "cell_type": "code",
   "execution_count": 48,
   "id": "1c2abf57-d576-4dcb-b9e7-15673b1b87fd",
   "metadata": {},
   "outputs": [
    {
     "data": {
      "image/png": "[encoded data removed]",
      "text/plain": [
       "<Figure size 1000x600 with 1 Axes>"
      ]
     },
     "metadata": {},
     "output_type": "display_data"
    }
   ],
   "source": [
    "# Visualize the 'Count' column of the cleaned data\n",
    "\n",
    "plt.figure(figsize=(10, 6))\n",
    "sns.histplot(data_cleaned['Count'], bins=50, kde=True)\n",
    "plt.title('Original Distribution of Count')\n",
    "plt.xlabel('Count')\n",
    "plt.ylabel('Frequency')\n",
    "plt.show()"
   ]
  },
  {
   "cell_type": "code",
   "execution_count": 49,
   "id": "4b8e528a-b50e-4543-9fbe-50b8b5925f78",
   "metadata": {},
   "outputs": [
    {
     "name": "stdout",
     "output_type": "stream",
     "text": [
      " Count Skewness: 0.21963643575760872\n"
     ]
    }
   ],
   "source": [
    "# Step 2: Calculate skewness of 'Count' in the clean data\n",
    "skewness = data_cleaned['Count'].skew()\n",
    "print(f' Count Skewness: {skewness}')"
   ]
  },
  {
   "cell_type": "markdown",
   "id": "812de8d3-14d0-4771-a397-b1c087722685",
   "metadata": {},
   "source": [
    "Remarks : \n",
    "* The skewness of the 'Count' column is very very mildly skewed, which we can approximate as normally distributed.\n",
    "----\n",
    "\n"
   ]
  },
  {
   "cell_type": "markdown",
   "id": "729f67ed-dd48-4a5b-af5c-88c4ac9b08c3",
   "metadata": {},
   "source": [
    "## Feature Extraction\n",
    "---"
   ]
  },
  {
   "cell_type": "markdown",
   "id": "e1c799d8-bad2-4f3c-8187-4f162e2afb7e",
   "metadata": {},
   "source": [
    "#### From the column 'Percentage' we calculate the Total Swipes : Count/Percentage"
   ]
  },
  {
   "cell_type": "code",
   "execution_count": 50,
   "id": "c550cbd3-1669-4b6c-8734-ec7542049463",
   "metadata": {},
   "outputs": [
    {
     "name": "stderr",
     "output_type": "stream",
     "text": [
      "/var/folders/dx/p_yf86jj0l337t_4zdrmp1f80000gn/T/ipykernel_62569/3367489983.py:1: SettingWithCopyWarning: \n",
      "A value is trying to be set on a copy of a slice from a DataFrame.\n",
      "Try using .loc[row_indexer,col_indexer] = value instead\n",
      "\n",
      "See the caveats in the documentation: https://pandas.pydata.org/pandas-docs/stable/user_guide/indexing.html#returning-a-view-versus-a-copy\n",
      "  data_cleaned['Total_Swipe'] = (data_cleaned['Count'] / data_cleaned['Percentage'])\n"
     ]
    },
    {
     "data": {
      "text/plain": [
       "(1318, 8)"
      ]
     },
     "execution_count": 50,
     "metadata": {},
     "output_type": "execute_result"
    }
   ],
   "source": [
    "data_cleaned['Total_Swipe'] = (data_cleaned['Count'] / data_cleaned['Percentage'])\n",
    "data_cleaned.shape"
   ]
  },
  {
   "cell_type": "code",
   "execution_count": 51,
   "id": "5827580d-3683-4417-b660-58a5f0a8c189",
   "metadata": {},
   "outputs": [
    {
     "name": "stdout",
     "output_type": "stream",
     "text": [
      "Total swipes Skewness: -0.14940799747561992\n"
     ]
    }
   ],
   "source": [
    "# Step 2: Calculate skewness of 'Total_Swipe' in the clean data\n",
    "original_skewness_swipe = data_cleaned['Total_Swipe'].skew()\n",
    "print(f'Total swipes Skewness: {original_skewness_swipe}')"
   ]
  },
  {
   "cell_type": "markdown",
   "id": "ae5dc5c8-9983-4063-94a4-7200ff112e6c",
   "metadata": {},
   "source": [
    "Remarks:\n",
    "* The skewness of the 'Total_Swipe' column is very very mildly left skewed, which we can approximate as normally distributed.\n",
    "---"
   ]
  },
  {
   "cell_type": "code",
   "execution_count": 52,
   "id": "4c7322ed-9798-40be-9ef2-204c5d882da1",
   "metadata": {},
   "outputs": [
    {
     "data": {
      "image/png": "[encoded data removed]",
      "text/plain": [
       "<Figure size 1000x600 with 1 Axes>"
      ]
     },
     "metadata": {},
     "output_type": "display_data"
    }
   ],
   "source": [
    "# Visualize the 'Total_Swipe' column of the cleaned data\n",
    "\n",
    "plt.figure(figsize=(10, 6))\n",
    "sns.histplot(data_cleaned['Total_Swipe'], bins=50, kde=True)\n",
    "plt.title('Original Distribution of Total_Swipe')\n",
    "plt.xlabel('Total_Swipe')\n",
    "plt.ylabel('Frequency')\n",
    "plt.show()"
   ]
  },
  {
   "cell_type": "code",
   "execution_count": 53,
   "id": "f7bab35a-7336-477d-b1cd-ed89b9d00eb3",
   "metadata": {},
   "outputs": [
    {
     "data": {
      "text/html": [
       "<div>\n",
       "<style scoped>\n",
       "    .dataframe tbody tr th:only-of-type {\n",
       "        vertical-align: middle;\n",
       "    }\n",
       "\n",
       "    .dataframe tbody tr th {\n",
       "        vertical-align: top;\n",
       "    }\n",
       "\n",
       "    .dataframe thead th {\n",
       "        text-align: right;\n",
       "    }\n",
       "</style>\n",
       "<table border=\"1\" class=\"dataframe\">\n",
       "  <thead>\n",
       "    <tr style=\"text-align: right;\">\n",
       "      <th></th>\n",
       "      <th>ID</th>\n",
       "      <th>Segment type</th>\n",
       "      <th>Segment Description</th>\n",
       "      <th>Answer</th>\n",
       "      <th>Count</th>\n",
       "      <th>Percentage</th>\n",
       "      <th>It became a relationship</th>\n",
       "      <th>Total_Swipe</th>\n",
       "    </tr>\n",
       "  </thead>\n",
       "  <tbody>\n",
       "    <tr>\n",
       "      <th>2</th>\n",
       "      <td>292894.0656</td>\n",
       "      <td>gender</td>\n",
       "      <td>Meridian, Idaho</td>\n",
       "      <td>No</td>\n",
       "      <td>499.173606</td>\n",
       "      <td>0.225255</td>\n",
       "      <td>0</td>\n",
       "      <td>2216.040172</td>\n",
       "    </tr>\n",
       "    <tr>\n",
       "      <th>4</th>\n",
       "      <td>292893.6561</td>\n",
       "      <td>gender</td>\n",
       "      <td>Meridian, Idaho</td>\n",
       "      <td>No</td>\n",
       "      <td>455.925963</td>\n",
       "      <td>0.211360</td>\n",
       "      <td>0</td>\n",
       "      <td>2157.108307</td>\n",
       "    </tr>\n",
       "    <tr>\n",
       "      <th>5</th>\n",
       "      <td>292896.2932</td>\n",
       "      <td>gender</td>\n",
       "      <td>Meridian, Idaho</td>\n",
       "      <td>No</td>\n",
       "      <td>1091.176696</td>\n",
       "      <td>0.519163</td>\n",
       "      <td>0</td>\n",
       "      <td>2101.798521</td>\n",
       "    </tr>\n",
       "    <tr>\n",
       "      <th>7</th>\n",
       "      <td>293223.0000</td>\n",
       "      <td>university</td>\n",
       "      <td>University of Iowa</td>\n",
       "      <td>Yes</td>\n",
       "      <td>1.000000</td>\n",
       "      <td>0.333000</td>\n",
       "      <td>0</td>\n",
       "      <td>3.003003</td>\n",
       "    </tr>\n",
       "    <tr>\n",
       "      <th>8</th>\n",
       "      <td>292881.1384</td>\n",
       "      <td>mobile</td>\n",
       "      <td>Meridian, Idaho</td>\n",
       "      <td>No</td>\n",
       "      <td>878.080463</td>\n",
       "      <td>0.228031</td>\n",
       "      <td>0</td>\n",
       "      <td>3850.704684</td>\n",
       "    </tr>\n",
       "  </tbody>\n",
       "</table>\n",
       "</div>"
      ],
      "text/plain": [
       "            ID Segment type Segment Description Answer        Count  \\\n",
       "2  292894.0656       gender     Meridian, Idaho     No   499.173606   \n",
       "4  292893.6561       gender     Meridian, Idaho     No   455.925963   \n",
       "5  292896.2932       gender     Meridian, Idaho     No  1091.176696   \n",
       "7  293223.0000   university  University of Iowa    Yes     1.000000   \n",
       "8  292881.1384       mobile     Meridian, Idaho     No   878.080463   \n",
       "\n",
       "   Percentage  It became a relationship  Total_Swipe  \n",
       "2    0.225255                         0  2216.040172  \n",
       "4    0.211360                         0  2157.108307  \n",
       "5    0.519163                         0  2101.798521  \n",
       "7    0.333000                         0     3.003003  \n",
       "8    0.228031                         0  3850.704684  "
      ]
     },
     "execution_count": 53,
     "metadata": {},
     "output_type": "execute_result"
    }
   ],
   "source": [
    "# the data looks currently like this : \n",
    "data_cleaned.head()"
   ]
  },
  {
   "cell_type": "code",
   "execution_count": 54,
   "id": "c414270f-574f-4227-93ca-b1f6b6815f93",
   "metadata": {},
   "outputs": [
    {
     "name": "stderr",
     "output_type": "stream",
     "text": [
      "/var/folders/dx/p_yf86jj0l337t_4zdrmp1f80000gn/T/ipykernel_62569/4279501027.py:2: SettingWithCopyWarning: \n",
      "A value is trying to be set on a copy of a slice from a DataFrame.\n",
      "Try using .loc[row_indexer,col_indexer] = value instead\n",
      "\n",
      "See the caveats in the documentation: https://pandas.pydata.org/pandas-docs/stable/user_guide/indexing.html#returning-a-view-versus-a-copy\n",
      "  data_cleaned['It became a relationship'] = data_cleaned['It became a relationship'].astype(bool)\n"
     ]
    }
   ],
   "source": [
    "# Convert 'It became a relationship' column into boolean\n",
    "data_cleaned['It became a relationship'] = data_cleaned['It became a relationship'].astype(bool)"
   ]
  },
  {
   "cell_type": "markdown",
   "id": "d459062e-8804-4702-999f-af52b73f2591",
   "metadata": {},
   "source": [
    "## Boxplots of 'Count' and 'Percentage'\n",
    "---"
   ]
  },
  {
   "cell_type": "code",
   "execution_count": 55,
   "id": "d1f761ed-a725-4e1e-aec9-6830838052e6",
   "metadata": {},
   "outputs": [
    {
     "data": {
      "text/plain": [
       "Text(0, 0.5, 'It Became a Relationship')"
      ]
     },
     "execution_count": 55,
     "metadata": {},
     "output_type": "execute_result"
    },
    {
     "data": {
      "image/png": "[encoded data removed]",
      "text/plain": [
       "<Figure size 1400x600 with 1 Axes>"
      ]
     },
     "metadata": {},
     "output_type": "display_data"
    },
    {
     "data": {
      "image/png": "[encoded data removed]",
      "text/plain": [
       "<Figure size 1400x600 with 1 Axes>"
      ]
     },
     "metadata": {},
     "output_type": "display_data"
    }
   ],
   "source": [
    "# Boxplot of match Count \n",
    "plt.figure(figsize=(14,6))\n",
    "sns.boxplot(x=data_cleaned['Count'], y=data_cleaned['It became a relationship'].astype('category'))\n",
    "plt.title('Boxplot of Tinder matches vs Outcome as a Relationship')\n",
    "plt.xlabel('Matches in Tinder')\n",
    "plt.ylabel('It Became a Relationship')\n",
    "\n",
    "# Boxplot of match Percentage \n",
    "plt.figure(figsize=(14,6))\n",
    "sns.boxplot(x=data_cleaned['Percentage'], y=data_cleaned['It became a relationship'].astype('category'))\n",
    "plt.title('Boxplot of Match Rate vs Outcome as a Relationship')\n",
    "plt.xlabel('Rate of matching')\n",
    "plt.ylabel('It Became a Relationship')"
   ]
  },
  {
   "cell_type": "markdown",
   "id": "ef744169-0048-49fd-8bdf-6017dd50905f",
   "metadata": {},
   "source": [
    "Remarks:\n",
    "* For both the boxplot it is seen that who answered 'yes' to the question of tinder leading to a relationship had both the higher count and percentage Median Values.\n",
    "* COUNT boxplot 'Yes' Median value : Approx 800 , 'No' Median Value : Aprrox 600 - This says that users having more matches leads to relationships successfully usually.\n",
    "* PERCENTAGE boxplot 'Yes' Median value : Approx 0.35 , 'No' Median Value : Aprrox 0.25 - This says that users having more Rate of Matching (Matches/Total Swipes) leads to relationships successfully usually."
   ]
  },
  {
   "cell_type": "markdown",
   "id": "f1bff0c8-948e-4f79-9bae-78fd09799945",
   "metadata": {},
   "source": [
    "## Data Exploration of the Categorical Columns\n",
    "---"
   ]
  },
  {
   "cell_type": "code",
   "execution_count": 56,
   "id": "6c1f58c0-3006-4306-9f29-b0024679ffde",
   "metadata": {},
   "outputs": [
    {
     "name": "stdout",
     "output_type": "stream",
     "text": [
      "Unique values in \"Segment type\" column count: 3\n",
      "['gender' 'university' 'mobile']\n",
      "------------------------------\n",
      "Unique values in \"Segment Description\" column count: 136\n",
      "['Meridian, Idaho' 'University of Iowa' 'University of Wisconsin-Madison'\n",
      " 'University of California, Davis' 'Cal Poly San Luis Obispo'\n",
      " 'Wesleyan University' 'University of Delaware'\n",
      " 'University of California, Santa Cruz' 'University of Colorado Boulder'\n",
      " 'University of Georgia' 'Southern Methodist University'\n",
      " 'University of Miami' 'University of Arizona'\n",
      " 'Northern Illinois University' 'Yale University'\n",
      " 'University of Washington' 'Ithaca College'\n",
      " 'University of North Carolina' 'Westport, CT' 'University of Pittsburgh'\n",
      " 'Johns Hopkins University' 'Indiana University' 'Vanderbilt University'\n",
      " 'Miami University (Ohio)' 'Michigan Technological University'\n",
      " 'Colby College' 'University of Tampa' 'Chapman University'\n",
      " 'Washington University in St. Louis' 'Boston University'\n",
      " 'Dartmouth College' 'Mobile respondents' 'Santa Clara University'\n",
      " 'University of Mississippi' 'Appalachian State University'\n",
      " 'Tufts University' 'Male respondents' 'Randolph-Macon College'\n",
      " 'University of Pennsylvania' 'Ohio State University'\n",
      " 'New York University' 'Florida International University'\n",
      " 'University of Notre Dame' 'United States Naval Academy'\n",
      " 'University of Denver' 'Union College' 'Columbia University'\n",
      " 'Cornell University' 'University of Tennessee'\n",
      " 'Washington State University' 'Northern Arizona University'\n",
      " 'Butler University' 'University of Missouri' 'University of Maryland'\n",
      " 'Massachusetts Institute of Technology' 'Colorado State University'\n",
      " 'University of California, Los Angeles' 'Stanford University'\n",
      " 'University of Rochester' 'University of Arkansas' 'Ohio University'\n",
      " 'University of Central Oklahoma' 'University of Oregon'\n",
      " 'University of Virginia' 'Arizona State University'\n",
      " 'University of California, Berkeley' 'Purdue University'\n",
      " 'University of Chicago' 'Brigham Young University' 'Princeton University'\n",
      " 'Cal State Northridge' 'University of Wisconsin, Eau Claire'\n",
      " 'Carnegie Mellon University' 'Case Western Reserve University'\n",
      " 'Arkansas State University' 'Marquette University'\n",
      " 'Texas Christian University' 'Female respondents'\n",
      " 'University of Wisconsin-La Crosse' 'Vassar College' 'Williams College'\n",
      " 'Loyola University Maryland' 'Illinois State' 'University of Connecticut'\n",
      " 'Rochester Institute of Technology' 'University of Kentucky'\n",
      " 'Roger Williams University' 'University of Texas'\n",
      " 'Northwestern University' 'University of Illinois'\n",
      " 'University of Alabama' 'Georgetown University'\n",
      " 'University of California, Santa Barbara' 'Morehead State University'\n",
      " 'Baylor University' 'Clemson University' 'Loyola Marymount University'\n",
      " 'University of Kansas' 'University of Richmond' 'Texas A&M University'\n",
      " 'University of Buffalo' 'University of Southern California'\n",
      " 'University of Minnesota' 'Syracuse University' 'University of Dayton'\n",
      " 'Mississippi State University' 'Skidmore College' 'Penn State University'\n",
      " 'University of Michigan' 'Elon University' 'UMass Amherst'\n",
      " 'Rice University ' 'Providence College' 'Emory University'\n",
      " 'University of Wisconsin-Whitewater' 'University of Maine'\n",
      " 'Pepperdine University' 'Whatsgoodly University' 'Lehigh University'\n",
      " 'University of St Andrews' 'George Washington University'\n",
      " 'Louisiana State University' 'Centre College'\n",
      " 'College of William and Mary' 'Quinnipiac University'\n",
      " 'University of California, San Diego' 'Texas Tech University'\n",
      " 'University of Oklahoma' 'Florida State University'\n",
      " 'James Madison University' 'Iowa State University'\n",
      " 'San Diego State University' 'Middlebury College' 'Tulane University'\n",
      " 'University of Central Florida' 'Old Dominion University']\n",
      "------------------------------\n",
      "Unique values in \"Answer\" column count: 3\n",
      "['No' 'Yes' \"I don't use Tinder\"]\n",
      "------------------------------\n"
     ]
    }
   ],
   "source": [
    "# Investigate unique values in categorical columns\n",
    "cat_col = ['Segment type', 'Segment Description', 'Answer']\n",
    "for col in cat_col:\n",
    "    print('Unique values in \"{}\" column count: {}'.format(col, data_cleaned[col].nunique()))\n",
    "    print(data_cleaned[col].unique())\n",
    "    print('-'*30)"
   ]
  },
  {
   "cell_type": "code",
   "execution_count": 57,
   "id": "f4f60779-37ca-400c-9010-c1e365e51a28",
   "metadata": {},
   "outputs": [
    {
     "data": {
      "image/png": "[encoded data removed]",
      "text/plain": [
       "<Figure size 800x500 with 1 Axes>"
      ]
     },
     "metadata": {},
     "output_type": "display_data"
    }
   ],
   "source": [
    "# Frequency of 'Segment type' unique value\n",
    "category_st = data_cleaned['Segment type'].value_counts()\n",
    "\n",
    "\n",
    "# Plotting the bar chart\n",
    "plt.figure(figsize=(8, 5))  # Set the figure size\n",
    "bars_st = plt.bar(category_st.index, category_st.values, color='skyblue', edgecolor='black')\n",
    "\n",
    "# Adding titles and labels\n",
    "plt.title('Bar Chart for the column which denotes : Name of Universities')\n",
    "plt.xlabel('Category')\n",
    "plt.ylabel('Frequency')\n",
    "\n",
    "# Annotating bars with the counts\n",
    "for bar in bars_st:\n",
    "    yval = bar.get_height()\n",
    "    plt.text(bar.get_x() + bar.get_width() / 2, yval, int(yval), ha='center', va='bottom')\n",
    "\n",
    "\n",
    "# Displaying the bar chart\n",
    "plt.show()"
   ]
  },
  {
   "cell_type": "code",
   "execution_count": 58,
   "id": "7496ae02-3ef4-4655-a3f5-1a241c16bb86",
   "metadata": {},
   "outputs": [
    {
     "data": {
      "image/png": "[encoded data removed]",
      "text/plain": [
       "<Figure size 800x500 with 1 Axes>"
      ]
     },
     "metadata": {},
     "output_type": "display_data"
    }
   ],
   "source": [
    "# Frequency of 'Answer' unique value\n",
    "category_counts = data_cleaned['Answer'].value_counts()\n",
    "\n",
    "# Plotting the bar chart\n",
    "plt.figure(figsize=(8, 5))  # Set the figure size\n",
    "bars = plt.bar(category_counts.index, category_counts.values, color='skyblue', edgecolor='black')\n",
    "\n",
    "# Adding titles and labels\n",
    "plt.title('Bar Chart for the column which denotes : Do you use tinder ?')\n",
    "plt.xlabel('Category')\n",
    "plt.ylabel('Frequency')\n",
    "\n",
    "# Annotating bars with the counts\n",
    "for bar in bars:\n",
    "    yval = bar.get_height()\n",
    "    plt.text(bar.get_x() + bar.get_width() / 2, yval, int(yval), ha='center', va='bottom')\n",
    "\n",
    "\n",
    "# Displaying the bar chart\n",
    "plt.show()"
   ]
  },
  {
   "cell_type": "markdown",
   "id": "9b59d965-f223-4e27-907f-f3b65e2eaa2f",
   "metadata": {},
   "source": [
    "----\n",
    "Remarks : \n",
    "* We see here that the value for the Column 'Answer' is more frequently 'No'. This seems that the data is inconsistent as we have already removed the data which showed the 'Count' of matches in tinder as 0, so now the datapoint present in the dataset must have users who uses tinder. Otherwise they would not have a 'Count' of matches in Tinder. This could happen as data is collected from various different sources and collaborated as a dataset.\n",
    "* Also, We don't know the difference between the value : 'I don't use Tinder' and 'No'."
   ]
  },
  {
   "cell_type": "code",
   "execution_count": 59,
   "id": "c2ba9155-20d1-476a-b98f-cc2630f09a06",
   "metadata": {},
   "outputs": [
    {
     "data": {
      "text/plain": [
       "Old Dominion University                 1\n",
       "University of Wisconsin-Whitewater      1\n",
       "Randolph-Macon College                  1\n",
       "Florida International University        1\n",
       "Elon University                         1\n",
       "                                     ... \n",
       "University of Washington                9\n",
       "University of Mississippi               9\n",
       "University of Southern California       9\n",
       "University of Pennsylvania             12\n",
       "Meridian, Idaho                       962\n",
       "Name: Segment Description, Length: 136, dtype: int64"
      ]
     },
     "execution_count": 59,
     "metadata": {},
     "output_type": "execute_result"
    }
   ],
   "source": [
    "# 'Segment Description' unique value counts\n",
    "data_cleaned['Segment Description'].value_counts(ascending=True)"
   ]
  },
  {
   "cell_type": "markdown",
   "id": "8edd79e5-9353-49cc-be78-b7631da3a22a",
   "metadata": {},
   "source": [
    "# Statistical Test \n",
    "\n",
    "**Question: In average, do people end up in relationship via Tinder have greater success rate in matching than those who do not?**"
   ]
  },
  {
   "cell_type": "markdown",
   "id": "1565d3a9-4e5e-438a-b706-933111a893e8",
   "metadata": {},
   "source": [
    "#### H0 : There is no relationship between tinder match percentage and finding a relationship in tinder\n",
    "#### H1 : There is a relationship between tinder match percentage and finding a relationship in tinder\n",
    "\n",
    "#### 95 % Confidence Interval : alpha = 0.05\n",
    "---\n",
    "\n",
    "### Let's start the 2 sample test"
   ]
  },
  {
   "cell_type": "markdown",
   "id": "2f5bde81-910e-433b-aab3-afe1c8690a97",
   "metadata": {},
   "source": [
    "Remarks : \n",
    "* We use a 2 sample T test between 2 groups on the 'difference of mean' of 2 groups 'Percentage' Columns (as 'Percentage' column denotes Count of Matches/ Total Swipes). \n",
    "* The 2 groups are : people who have successfully ended up in a relationship using tinder and the other group is of people who have used tinder but were unsuccessful in the relationship. \n",
    "* We plan to do the test in a randomized way where we run a for loop for multiple times calculating the difference of Percentage mean between the samples of 2 groups.\n",
    "* Everytime we have the difference of Percentage mean value, we save it in an array and finally plot it.\n",
    "* Once it is plotted, we calcualate the p-value : the total probability that the value of 'difference of Percentage mean' exceeds the value of the original dataset's 'difference of Percentage mean'. The original dataset's 'difference of Percentage mean' is denoted with a red dash line"
   ]
  },
  {
   "cell_type": "code",
   "execution_count": 60,
   "id": "fbf31a89-7e7d-4b3a-96b9-c3bc7270139a",
   "metadata": {},
   "outputs": [],
   "source": [
    "# Function to calculate difference of a function (ex. mean)\n",
    "def diff_func(data_1, data_2, func=np.mean):\n",
    "    difference = func(data_1) - func(data_2)\n",
    "    return difference\n",
    "\n",
    "# Function to grab column value to compare for those found relationship in tinder versus not \n",
    "def initial_sample(df=data_cleaned, col_to_compare='Percentage'):\n",
    "    rel_yes = df[df['It became a relationship']][col_to_compare]\n",
    "    rel_no = df[df['It became a relationship']!=True][col_to_compare]\n",
    "    return rel_yes, rel_no\n",
    "\n",
    "# Create bootstrapped samples using permutation\n",
    "def permutation_sample(data1, data2):\n",
    "    \n",
    "    data = np.concatenate((data1, data2))\n",
    "    permuted_data = np.random.permutation(data)\n",
    "    \n",
    "    permuted_data1 = permuted_data[:len(data1)]\n",
    "    permuted_data2 = permuted_data[len(data1):]\n",
    "    \n",
    "    return permuted_data1, permuted_data2\n",
    "\n",
    "# Conduct null hypothesis test with bootstrapped samples\n",
    "def bootstrap_testing(df, col_to_compare, func, size=1):\n",
    "    data1, data2 = initial_sample(df, col_to_compare)\n",
    "    difference = diff_func(data1, data2, func)\n",
    "    \n",
    "    sample_stat = [] # initialize a list to store bootstrapped sample statistics\n",
    "    \n",
    "    for i in range(size):\n",
    "        permuted_data1, permuted_data2 = permutation_sample(data1, data2)  # Dataset sampled into 2 parts\n",
    "        permuted_diff = diff_func(permuted_data1, permuted_data2, func)  # Calculating the difference of mean between the mean of Perentage of the 2 groups \n",
    "        sample_stat.append(permuted_diff) # Appending the 'difference of mean' value for each experiment\n",
    "    \n",
    "    sample_stat = np.array(sample_stat)\n",
    "    \n",
    "    plt.figure(figsize=(14,8))\n",
    "    ax = sns.histplot(sample_stat)\n",
    "    ax.axvline(difference, linestyle='--', color='red')\n",
    "    plt.title('Distribution of bootstraped sample stat versus original sample stat (dashed)')\n",
    "    \n",
    "    pval = np.sum(difference <= sample_stat)/len(sample_stat)\n",
    "    print('Test result : p-value of {}'.format(pval))\n",
    "    return pval"
   ]
  },
  {
   "cell_type": "code",
   "execution_count": 61,
   "id": "3d246497-4973-487b-9cba-f436acc99a5a",
   "metadata": {},
   "outputs": [
    {
     "name": "stdout",
     "output_type": "stream",
     "text": [
      "Test result : p-value of 0.0059\n"
     ]
    },
    {
     "data": {
      "text/plain": [
       "0.0059"
      ]
     },
     "execution_count": 61,
     "metadata": {},
     "output_type": "execute_result"
    },
    {
     "data": {
      "image/png": "[encoded data removed]",
      "text/plain": [
       "<Figure size 1400x800 with 1 Axes>"
      ]
     },
     "metadata": {},
     "output_type": "display_data"
    }
   ],
   "source": [
    "# Perform the test with 10000 iterations on difference in mean of 'percentage' for those who found relationship in tinder versus those who did not \n",
    "np.random.seed(5)\n",
    "bootstrap_testing(df=data_cleaned, col_to_compare='Percentage', func=np.mean, size=10000)"
   ]
  },
  {
   "cell_type": "markdown",
   "id": "7eba131d-bd68-40a2-a8f4-cb8e686d12ba",
   "metadata": {},
   "source": [
    "### P-value is 0.0059 which is significantly under 0.05 and therefore I reject the null hypothesis that \" there is no relationship between match percentage and finding a relationship in tinder \"\n",
    "---"
   ]
  },
  {
   "cell_type": "markdown",
   "id": "f45fa684-a043-4e46-ae55-6a80a3c2a090",
   "metadata": {},
   "source": [
    "## Data Preprocessing\n",
    "---"
   ]
  },
  {
   "cell_type": "code",
   "execution_count": 62,
   "id": "1816eafa-3a98-4180-bbb4-2257c3382df4",
   "metadata": {},
   "outputs": [
    {
     "data": {
      "text/html": [
       "<div>\n",
       "<style scoped>\n",
       "    .dataframe tbody tr th:only-of-type {\n",
       "        vertical-align: middle;\n",
       "    }\n",
       "\n",
       "    .dataframe tbody tr th {\n",
       "        vertical-align: top;\n",
       "    }\n",
       "\n",
       "    .dataframe thead th {\n",
       "        text-align: right;\n",
       "    }\n",
       "</style>\n",
       "<table border=\"1\" class=\"dataframe\">\n",
       "  <thead>\n",
       "    <tr style=\"text-align: right;\">\n",
       "      <th></th>\n",
       "      <th>ID</th>\n",
       "      <th>Segment type</th>\n",
       "      <th>Segment Description</th>\n",
       "      <th>Answer</th>\n",
       "      <th>Count</th>\n",
       "      <th>Percentage</th>\n",
       "      <th>It became a relationship</th>\n",
       "    </tr>\n",
       "  </thead>\n",
       "  <tbody>\n",
       "    <tr>\n",
       "      <th>2</th>\n",
       "      <td>292894.0656</td>\n",
       "      <td>gender</td>\n",
       "      <td>Meridian, Idaho</td>\n",
       "      <td>No</td>\n",
       "      <td>499.173606</td>\n",
       "      <td>0.225255</td>\n",
       "      <td>0</td>\n",
       "    </tr>\n",
       "    <tr>\n",
       "      <th>4</th>\n",
       "      <td>292893.6561</td>\n",
       "      <td>gender</td>\n",
       "      <td>Meridian, Idaho</td>\n",
       "      <td>No</td>\n",
       "      <td>455.925963</td>\n",
       "      <td>0.211360</td>\n",
       "      <td>0</td>\n",
       "    </tr>\n",
       "    <tr>\n",
       "      <th>5</th>\n",
       "      <td>292896.2932</td>\n",
       "      <td>gender</td>\n",
       "      <td>Meridian, Idaho</td>\n",
       "      <td>No</td>\n",
       "      <td>1091.176696</td>\n",
       "      <td>0.519163</td>\n",
       "      <td>0</td>\n",
       "    </tr>\n",
       "    <tr>\n",
       "      <th>7</th>\n",
       "      <td>293223.0000</td>\n",
       "      <td>university</td>\n",
       "      <td>University of Iowa</td>\n",
       "      <td>Yes</td>\n",
       "      <td>1.000000</td>\n",
       "      <td>0.333000</td>\n",
       "      <td>0</td>\n",
       "    </tr>\n",
       "    <tr>\n",
       "      <th>8</th>\n",
       "      <td>292881.1384</td>\n",
       "      <td>mobile</td>\n",
       "      <td>Meridian, Idaho</td>\n",
       "      <td>No</td>\n",
       "      <td>878.080463</td>\n",
       "      <td>0.228031</td>\n",
       "      <td>0</td>\n",
       "    </tr>\n",
       "    <tr>\n",
       "      <th>...</th>\n",
       "      <td>...</td>\n",
       "      <td>...</td>\n",
       "      <td>...</td>\n",
       "      <td>...</td>\n",
       "      <td>...</td>\n",
       "      <td>...</td>\n",
       "      <td>...</td>\n",
       "    </tr>\n",
       "    <tr>\n",
       "      <th>1886</th>\n",
       "      <td>292898.4195</td>\n",
       "      <td>mobile</td>\n",
       "      <td>Meridian, Idaho</td>\n",
       "      <td>No</td>\n",
       "      <td>844.784936</td>\n",
       "      <td>0.452261</td>\n",
       "      <td>1</td>\n",
       "    </tr>\n",
       "    <tr>\n",
       "      <th>1888</th>\n",
       "      <td>293489.5656</td>\n",
       "      <td>university</td>\n",
       "      <td>Washington State University</td>\n",
       "      <td>No</td>\n",
       "      <td>1.282776</td>\n",
       "      <td>0.973513</td>\n",
       "      <td>1</td>\n",
       "    </tr>\n",
       "    <tr>\n",
       "      <th>1892</th>\n",
       "      <td>292881.6932</td>\n",
       "      <td>mobile</td>\n",
       "      <td>Meridian, Idaho</td>\n",
       "      <td>No</td>\n",
       "      <td>1203.190399</td>\n",
       "      <td>0.312360</td>\n",
       "      <td>0</td>\n",
       "    </tr>\n",
       "    <tr>\n",
       "      <th>1893</th>\n",
       "      <td>292900.8499</td>\n",
       "      <td>gender</td>\n",
       "      <td>Meridian, Idaho</td>\n",
       "      <td>No</td>\n",
       "      <td>806.378820</td>\n",
       "      <td>0.488025</td>\n",
       "      <td>0</td>\n",
       "    </tr>\n",
       "    <tr>\n",
       "      <th>1894</th>\n",
       "      <td>292893.8600</td>\n",
       "      <td>gender</td>\n",
       "      <td>Meridian, Idaho</td>\n",
       "      <td>No</td>\n",
       "      <td>1149.529381</td>\n",
       "      <td>0.488984</td>\n",
       "      <td>0</td>\n",
       "    </tr>\n",
       "  </tbody>\n",
       "</table>\n",
       "<p>1318 rows × 7 columns</p>\n",
       "</div>"
      ],
      "text/plain": [
       "               ID Segment type          Segment Description Answer  \\\n",
       "2     292894.0656       gender              Meridian, Idaho     No   \n",
       "4     292893.6561       gender              Meridian, Idaho     No   \n",
       "5     292896.2932       gender              Meridian, Idaho     No   \n",
       "7     293223.0000   university           University of Iowa    Yes   \n",
       "8     292881.1384       mobile              Meridian, Idaho     No   \n",
       "...           ...          ...                          ...    ...   \n",
       "1886  292898.4195       mobile              Meridian, Idaho     No   \n",
       "1888  293489.5656   university  Washington State University     No   \n",
       "1892  292881.6932       mobile              Meridian, Idaho     No   \n",
       "1893  292900.8499       gender              Meridian, Idaho     No   \n",
       "1894  292893.8600       gender              Meridian, Idaho     No   \n",
       "\n",
       "            Count  Percentage  It became a relationship  \n",
       "2      499.173606    0.225255                         0  \n",
       "4      455.925963    0.211360                         0  \n",
       "5     1091.176696    0.519163                         0  \n",
       "7        1.000000    0.333000                         0  \n",
       "8      878.080463    0.228031                         0  \n",
       "...           ...         ...                       ...  \n",
       "1886   844.784936    0.452261                         1  \n",
       "1888     1.282776    0.973513                         1  \n",
       "1892  1203.190399    0.312360                         0  \n",
       "1893   806.378820    0.488025                         0  \n",
       "1894  1149.529381    0.488984                         0  \n",
       "\n",
       "[1318 rows x 7 columns]"
      ]
     },
     "execution_count": 62,
     "metadata": {},
     "output_type": "execute_result"
    }
   ],
   "source": [
    "data_filtered = df_class_train[df_class_train['Count'] != 0]\n",
    "\n",
    "# Creating copy of data_filtered dataset for any preprocessing\n",
    "data_filtered_copy1 = data_filtered.copy()\n",
    "data_filtered_copy1"
   ]
  },
  {
   "cell_type": "code",
   "execution_count": 63,
   "id": "8db83532-a4cc-425d-9005-f5d341f771f0",
   "metadata": {},
   "outputs": [],
   "source": [
    "# Drop column 'ID'\n",
    "data_filtered_copy1 = data_filtered_copy1.drop(columns=['ID'])"
   ]
  },
  {
   "cell_type": "code",
   "execution_count": 64,
   "id": "8d3ee3b7-fa04-49eb-8edc-dd03e6ac56e7",
   "metadata": {},
   "outputs": [
    {
     "data": {
      "text/plain": [
       "<seaborn.axisgrid.PairGrid at 0x13b61be50>"
      ]
     },
     "execution_count": 64,
     "metadata": {},
     "output_type": "execute_result"
    },
    {
     "data": {
      "image/png": "[encoded data removed]",
      "text/plain": [
       "<Figure size 679.736x500 with 6 Axes>"
      ]
     },
     "metadata": {},
     "output_type": "display_data"
    }
   ],
   "source": [
    "# Pair plot\n",
    "sns.pairplot(data_filtered_copy1, hue='It became a relationship')"
   ]
  },
  {
   "cell_type": "code",
   "execution_count": 65,
   "id": "b42282df-bd60-42c2-af9e-bfda8763062f",
   "metadata": {},
   "outputs": [
    {
     "data": {
      "text/plain": [
       "(1318, 7)"
      ]
     },
     "execution_count": 65,
     "metadata": {},
     "output_type": "execute_result"
    }
   ],
   "source": [
    "# Dimension of the train data : \n",
    "data_filtered.shape"
   ]
  },
  {
   "cell_type": "code",
   "execution_count": 66,
   "id": "998a5c80-b644-4020-8f91-fd33b32e7b67",
   "metadata": {},
   "outputs": [
    {
     "name": "stdout",
     "output_type": "stream",
     "text": [
      "Meridian, Idaho                      962\n",
      "University of Pennsylvania            12\n",
      "University of Washington               9\n",
      "University of Mississippi              9\n",
      "University of Southern California      9\n",
      "                                    ... \n",
      "University of Buffalo                  1\n",
      "Randolph-Macon College                 1\n",
      "Mississippi State University           1\n",
      "Penn State University                  1\n",
      "Old Dominion University                1\n",
      "Name: Segment Description, Length: 136, dtype: int64\n",
      "\n",
      "\n"
     ]
    }
   ],
   "source": [
    "print(data_filtered['Segment Description'].value_counts())\n",
    "print('\\n')"
   ]
  },
  {
   "cell_type": "markdown",
   "id": "d523630d-ce60-485c-8507-8fb3a559aa5c",
   "metadata": {},
   "source": [
    "Remarks : \n",
    "* We see here that the cleaned dataset has 1306 rows and out of those 962 rows are having 'Segment Description' as Meridian, Idaho. As we can replace those with the value '1' and the other 344 row's 'Segment Description' value as '0' , as part of data preprocessing."
   ]
  },
  {
   "cell_type": "code",
   "execution_count": 67,
   "id": "c3cfeb56-4449-43a9-a05e-3bd3ff53139a",
   "metadata": {},
   "outputs": [],
   "source": [
    "# Replace Other universities\n",
    "data_filtered_copy1['Segment Description'].replace(['University of Iowa',\n",
    "       'University of Wisconsin-Madison',\n",
    "       'University of California, Davis', 'Cal Poly San Luis Obispo',\n",
    "       'Wesleyan University', 'University of Delaware',\n",
    "       'University of California, Santa Cruz',\n",
    "       'University of Colorado Boulder', 'University of Georgia',\n",
    "       'Southern Methodist University', 'University of Miami',\n",
    "       'University of Arizona', 'Northern Illinois University',\n",
    "       'Yale University', 'University of Washington', 'Ithaca College',\n",
    "       'University of North Carolina', 'Westport, CT',\n",
    "       'University of Pittsburgh', 'Johns Hopkins University',\n",
    "       'Indiana University', 'Vanderbilt University',\n",
    "       'Miami University (Ohio)', 'Michigan Technological University',\n",
    "       'Colby College', 'University of Tampa', 'Chapman University',\n",
    "       'Washington University in St. Louis', 'Boston University',\n",
    "       'Dartmouth College', 'Mobile respondents',\n",
    "       'Santa Clara University', 'University of Mississippi',\n",
    "       'Appalachian State University', 'Tufts University',\n",
    "       'Male respondents', 'Randolph-Macon College',\n",
    "       'University of Pennsylvania', 'Ohio State University',\n",
    "       'New York University', 'Florida International University',\n",
    "       'University of Notre Dame', 'United States Naval Academy',\n",
    "       'University of Denver', 'Union College', 'Columbia University',\n",
    "       'Cornell University', 'University of Tennessee',\n",
    "       'Washington State University', 'Northern Arizona University',\n",
    "       'Butler University', 'University of Missouri',\n",
    "       'University of Maryland', 'Massachusetts Institute of Technology',\n",
    "       'Colorado State University',\n",
    "       'University of California, Los Angeles', 'Stanford University',\n",
    "       'University of Rochester', 'University of Arkansas',\n",
    "       'Ohio University', 'University of Central Oklahoma',\n",
    "       'University of Oregon', 'University of Virginia',\n",
    "       'Arizona State University', 'University of California, Berkeley',\n",
    "       'Purdue University', 'University of Chicago',\n",
    "       'Brigham Young University', 'Princeton University',\n",
    "       'Cal State Northridge', 'University of Wisconsin, Eau Claire',\n",
    "       'Carnegie Mellon University', 'Case Western Reserve University',\n",
    "       'Arkansas State University', 'Marquette University',\n",
    "       'Texas Christian University', 'Female respondents',\n",
    "       'University of Wisconsin-La Crosse', 'Vassar College',\n",
    "       'Loyola University Maryland', 'Illinois State',\n",
    "       'University of Connecticut', 'Rochester Institute of Technology',\n",
    "       'University of Kentucky', 'Roger Williams University',\n",
    "       'University of Texas', 'Northwestern University',\n",
    "       'University of Illinois', 'University of Alabama',\n",
    "       'Georgetown University', 'University of California, Santa Barbara',\n",
    "       'Morehead State University', 'Baylor University',\n",
    "       'Clemson University', 'Loyola Marymount University',\n",
    "       'University of Kansas', 'University of Richmond',\n",
    "       'Texas A&M University', 'University of Buffalo',\n",
    "       'University of Southern California', 'University of Minnesota',\n",
    "       'Syracuse University', 'University of Dayton',\n",
    "       'Mississippi State University', 'Skidmore College',\n",
    "       'Penn State University', 'University of Michigan',\n",
    "       'Elon University', 'UMass Amherst', 'Rice University ',\n",
    "       'Providence College', 'Emory University', 'Williams College',\n",
    "       'University of Wisconsin-Whitewater', 'University of Maine',\n",
    "       'Pepperdine University', 'Whatsgoodly University',\n",
    "       'Lehigh University', 'University of St Andrews',\n",
    "       'George Washington University', 'Louisiana State University',\n",
    "       'Centre College', 'College of William and Mary',\n",
    "       'Quinnipiac University', 'University of California, San Diego',\n",
    "       'Texas Tech University', 'University of Oklahoma',\n",
    "       'Florida State University', 'James Madison University',\n",
    "       'Iowa State University', 'San Diego State University',\n",
    "       'Middlebury College', 'Tulane University',\n",
    "       'University of Central Florida', 'Old Dominion University'], 'Other_Segment_description', inplace = True)"
   ]
  },
  {
   "cell_type": "code",
   "execution_count": 68,
   "id": "e7cad31c-c08b-44d0-b4f9-d2769fa2f3e2",
   "metadata": {},
   "outputs": [
    {
     "name": "stdout",
     "output_type": "stream",
     "text": [
      "Unique values in Segment Description are ['Meridian, Idaho' 'Other_Segment_description'].\n"
     ]
    }
   ],
   "source": [
    "# Checking unique values as -\n",
    "print(f\"Unique values in Segment Description are {data_filtered_copy1['Segment Description'].unique()}.\")"
   ]
  },
  {
   "cell_type": "code",
   "execution_count": 69,
   "id": "752e4152-0f90-4e04-9935-47cdbab8e19b",
   "metadata": {},
   "outputs": [],
   "source": [
    "# Replaceing 'Other_Segment_description', 'Meridian, Idaho' with '0', '1' with respectively as -\n",
    "data_filtered_copy1['Segment Description'].replace(['Other_Segment_description', 'Meridian, Idaho'], ['0', '1'], inplace = True)"
   ]
  },
  {
   "cell_type": "code",
   "execution_count": 70,
   "id": "d0d07524-b944-421a-9bc3-ea63889e802c",
   "metadata": {},
   "outputs": [
    {
     "name": "stdout",
     "output_type": "stream",
     "text": [
      ">>> Tinder data_filtered_copy1 - Segment Description - \n",
      "----------------------------------------\n",
      "1    962\n",
      "0    356\n",
      "Name: Segment Description, dtype: int64\n",
      "\n",
      "\n"
     ]
    }
   ],
   "source": [
    "# Display Value counts for 'Other_Segment_description', 'Meridian, Idaho' respectively as -\n",
    "print(\">>> Tinder data_filtered_copy1 - Segment Description - \")\n",
    "print(\"-\" * 40)\n",
    "print(data_filtered_copy1['Segment Description'].value_counts())\n",
    "print('\\n')"
   ]
  },
  {
   "cell_type": "code",
   "execution_count": 71,
   "id": "572897c2-e97f-4d34-ae6f-50ad44f4413f",
   "metadata": {},
   "outputs": [
    {
     "name": "stdout",
     "output_type": "stream",
     "text": [
      ">>> Tinder data_filtered_copy1 - Segment type - \n",
      "----------------------------------------\n",
      "gender        488\n",
      "mobile        483\n",
      "university    347\n",
      "Name: Segment type, dtype: int64\n",
      "\n",
      "\n"
     ]
    }
   ],
   "source": [
    "# Display Value counts for 'gender', 'mobile','university' respectively as -\n",
    "print(\">>> Tinder data_filtered_copy1 - Segment type - \")\n",
    "print(\"-\" * 40)\n",
    "print(data_filtered_copy1['Segment type'].value_counts())\n",
    "print('\\n')"
   ]
  },
  {
   "cell_type": "code",
   "execution_count": 72,
   "id": "de850c49-14f6-4812-94f4-61921d59da16",
   "metadata": {},
   "outputs": [],
   "source": [
    "# Split the training dataset (data_filtered_copy1) into X and y\n",
    "X = data_filtered_copy1.iloc[:, :-1]\n",
    "y = data_filtered_copy1.iloc[:, -1]"
   ]
  },
  {
   "cell_type": "code",
   "execution_count": 73,
   "id": "400a5aeb-10b9-4177-9a49-8a326407e3a3",
   "metadata": {},
   "outputs": [
    {
     "data": {
      "text/html": [
       "<div>\n",
       "<style scoped>\n",
       "    .dataframe tbody tr th:only-of-type {\n",
       "        vertical-align: middle;\n",
       "    }\n",
       "\n",
       "    .dataframe tbody tr th {\n",
       "        vertical-align: top;\n",
       "    }\n",
       "\n",
       "    .dataframe thead th {\n",
       "        text-align: right;\n",
       "    }\n",
       "</style>\n",
       "<table border=\"1\" class=\"dataframe\">\n",
       "  <thead>\n",
       "    <tr style=\"text-align: right;\">\n",
       "      <th></th>\n",
       "      <th>Segment type</th>\n",
       "      <th>Segment Description</th>\n",
       "      <th>Answer</th>\n",
       "      <th>Count</th>\n",
       "      <th>Percentage</th>\n",
       "    </tr>\n",
       "  </thead>\n",
       "  <tbody>\n",
       "    <tr>\n",
       "      <th>2</th>\n",
       "      <td>gender</td>\n",
       "      <td>1</td>\n",
       "      <td>No</td>\n",
       "      <td>499.173606</td>\n",
       "      <td>0.225255</td>\n",
       "    </tr>\n",
       "    <tr>\n",
       "      <th>4</th>\n",
       "      <td>gender</td>\n",
       "      <td>1</td>\n",
       "      <td>No</td>\n",
       "      <td>455.925963</td>\n",
       "      <td>0.211360</td>\n",
       "    </tr>\n",
       "    <tr>\n",
       "      <th>5</th>\n",
       "      <td>gender</td>\n",
       "      <td>1</td>\n",
       "      <td>No</td>\n",
       "      <td>1091.176696</td>\n",
       "      <td>0.519163</td>\n",
       "    </tr>\n",
       "    <tr>\n",
       "      <th>7</th>\n",
       "      <td>university</td>\n",
       "      <td>0</td>\n",
       "      <td>Yes</td>\n",
       "      <td>1.000000</td>\n",
       "      <td>0.333000</td>\n",
       "    </tr>\n",
       "    <tr>\n",
       "      <th>8</th>\n",
       "      <td>mobile</td>\n",
       "      <td>1</td>\n",
       "      <td>No</td>\n",
       "      <td>878.080463</td>\n",
       "      <td>0.228031</td>\n",
       "    </tr>\n",
       "    <tr>\n",
       "      <th>...</th>\n",
       "      <td>...</td>\n",
       "      <td>...</td>\n",
       "      <td>...</td>\n",
       "      <td>...</td>\n",
       "      <td>...</td>\n",
       "    </tr>\n",
       "    <tr>\n",
       "      <th>1886</th>\n",
       "      <td>mobile</td>\n",
       "      <td>1</td>\n",
       "      <td>No</td>\n",
       "      <td>844.784936</td>\n",
       "      <td>0.452261</td>\n",
       "    </tr>\n",
       "    <tr>\n",
       "      <th>1888</th>\n",
       "      <td>university</td>\n",
       "      <td>0</td>\n",
       "      <td>No</td>\n",
       "      <td>1.282776</td>\n",
       "      <td>0.973513</td>\n",
       "    </tr>\n",
       "    <tr>\n",
       "      <th>1892</th>\n",
       "      <td>mobile</td>\n",
       "      <td>1</td>\n",
       "      <td>No</td>\n",
       "      <td>1203.190399</td>\n",
       "      <td>0.312360</td>\n",
       "    </tr>\n",
       "    <tr>\n",
       "      <th>1893</th>\n",
       "      <td>gender</td>\n",
       "      <td>1</td>\n",
       "      <td>No</td>\n",
       "      <td>806.378820</td>\n",
       "      <td>0.488025</td>\n",
       "    </tr>\n",
       "    <tr>\n",
       "      <th>1894</th>\n",
       "      <td>gender</td>\n",
       "      <td>1</td>\n",
       "      <td>No</td>\n",
       "      <td>1149.529381</td>\n",
       "      <td>0.488984</td>\n",
       "    </tr>\n",
       "  </tbody>\n",
       "</table>\n",
       "<p>1318 rows × 5 columns</p>\n",
       "</div>"
      ],
      "text/plain": [
       "     Segment type Segment Description Answer        Count  Percentage\n",
       "2          gender                   1     No   499.173606    0.225255\n",
       "4          gender                   1     No   455.925963    0.211360\n",
       "5          gender                   1     No  1091.176696    0.519163\n",
       "7      university                   0    Yes     1.000000    0.333000\n",
       "8          mobile                   1     No   878.080463    0.228031\n",
       "...           ...                 ...    ...          ...         ...\n",
       "1886       mobile                   1     No   844.784936    0.452261\n",
       "1888   university                   0     No     1.282776    0.973513\n",
       "1892       mobile                   1     No  1203.190399    0.312360\n",
       "1893       gender                   1     No   806.378820    0.488025\n",
       "1894       gender                   1     No  1149.529381    0.488984\n",
       "\n",
       "[1318 rows x 5 columns]"
      ]
     },
     "execution_count": 73,
     "metadata": {},
     "output_type": "execute_result"
    }
   ],
   "source": [
    "X"
   ]
  },
  {
   "cell_type": "code",
   "execution_count": 74,
   "id": "bd610668-01e5-46aa-918b-2bdf5fb7fd60",
   "metadata": {},
   "outputs": [
    {
     "data": {
      "text/plain": [
       "2       0\n",
       "4       0\n",
       "5       0\n",
       "7       0\n",
       "8       0\n",
       "       ..\n",
       "1886    1\n",
       "1888    1\n",
       "1892    0\n",
       "1893    0\n",
       "1894    0\n",
       "Name: It became a relationship, Length: 1318, dtype: int64"
      ]
     },
     "execution_count": 74,
     "metadata": {},
     "output_type": "execute_result"
    }
   ],
   "source": [
    "y"
   ]
  },
  {
   "cell_type": "markdown",
   "id": "c565f256-1d32-439c-8dd0-c4d85f9db5e3",
   "metadata": {},
   "source": [
    "#### # One Hot Encoding on the dataset 'X' for the Columns : Answer, Segment Description and Segment type\n",
    "---"
   ]
  },
  {
   "cell_type": "code",
   "execution_count": 75,
   "id": "3637669d-5291-4b78-961a-b6bfe28b38e6",
   "metadata": {},
   "outputs": [
    {
     "data": {
      "text/html": [
       "<div>\n",
       "<style scoped>\n",
       "    .dataframe tbody tr th:only-of-type {\n",
       "        vertical-align: middle;\n",
       "    }\n",
       "\n",
       "    .dataframe tbody tr th {\n",
       "        vertical-align: top;\n",
       "    }\n",
       "\n",
       "    .dataframe thead th {\n",
       "        text-align: right;\n",
       "    }\n",
       "</style>\n",
       "<table border=\"1\" class=\"dataframe\">\n",
       "  <thead>\n",
       "    <tr style=\"text-align: right;\">\n",
       "      <th></th>\n",
       "      <th>Count</th>\n",
       "      <th>Percentage</th>\n",
       "      <th>Segment_type__mobile</th>\n",
       "      <th>Segment_type__university</th>\n",
       "      <th>Segment_description__1</th>\n",
       "      <th>Answer__No</th>\n",
       "      <th>Answer__Yes</th>\n",
       "    </tr>\n",
       "  </thead>\n",
       "  <tbody>\n",
       "    <tr>\n",
       "      <th>2</th>\n",
       "      <td>499.173606</td>\n",
       "      <td>0.225255</td>\n",
       "      <td>0</td>\n",
       "      <td>0</td>\n",
       "      <td>1</td>\n",
       "      <td>1</td>\n",
       "      <td>0</td>\n",
       "    </tr>\n",
       "    <tr>\n",
       "      <th>4</th>\n",
       "      <td>455.925963</td>\n",
       "      <td>0.211360</td>\n",
       "      <td>0</td>\n",
       "      <td>0</td>\n",
       "      <td>1</td>\n",
       "      <td>1</td>\n",
       "      <td>0</td>\n",
       "    </tr>\n",
       "    <tr>\n",
       "      <th>5</th>\n",
       "      <td>1091.176696</td>\n",
       "      <td>0.519163</td>\n",
       "      <td>0</td>\n",
       "      <td>0</td>\n",
       "      <td>1</td>\n",
       "      <td>1</td>\n",
       "      <td>0</td>\n",
       "    </tr>\n",
       "    <tr>\n",
       "      <th>7</th>\n",
       "      <td>1.000000</td>\n",
       "      <td>0.333000</td>\n",
       "      <td>0</td>\n",
       "      <td>1</td>\n",
       "      <td>0</td>\n",
       "      <td>0</td>\n",
       "      <td>1</td>\n",
       "    </tr>\n",
       "    <tr>\n",
       "      <th>8</th>\n",
       "      <td>878.080463</td>\n",
       "      <td>0.228031</td>\n",
       "      <td>1</td>\n",
       "      <td>0</td>\n",
       "      <td>1</td>\n",
       "      <td>1</td>\n",
       "      <td>0</td>\n",
       "    </tr>\n",
       "    <tr>\n",
       "      <th>...</th>\n",
       "      <td>...</td>\n",
       "      <td>...</td>\n",
       "      <td>...</td>\n",
       "      <td>...</td>\n",
       "      <td>...</td>\n",
       "      <td>...</td>\n",
       "      <td>...</td>\n",
       "    </tr>\n",
       "    <tr>\n",
       "      <th>1886</th>\n",
       "      <td>844.784936</td>\n",
       "      <td>0.452261</td>\n",
       "      <td>1</td>\n",
       "      <td>0</td>\n",
       "      <td>1</td>\n",
       "      <td>1</td>\n",
       "      <td>0</td>\n",
       "    </tr>\n",
       "    <tr>\n",
       "      <th>1888</th>\n",
       "      <td>1.282776</td>\n",
       "      <td>0.973513</td>\n",
       "      <td>0</td>\n",
       "      <td>1</td>\n",
       "      <td>0</td>\n",
       "      <td>1</td>\n",
       "      <td>0</td>\n",
       "    </tr>\n",
       "    <tr>\n",
       "      <th>1892</th>\n",
       "      <td>1203.190399</td>\n",
       "      <td>0.312360</td>\n",
       "      <td>1</td>\n",
       "      <td>0</td>\n",
       "      <td>1</td>\n",
       "      <td>1</td>\n",
       "      <td>0</td>\n",
       "    </tr>\n",
       "    <tr>\n",
       "      <th>1893</th>\n",
       "      <td>806.378820</td>\n",
       "      <td>0.488025</td>\n",
       "      <td>0</td>\n",
       "      <td>0</td>\n",
       "      <td>1</td>\n",
       "      <td>1</td>\n",
       "      <td>0</td>\n",
       "    </tr>\n",
       "    <tr>\n",
       "      <th>1894</th>\n",
       "      <td>1149.529381</td>\n",
       "      <td>0.488984</td>\n",
       "      <td>0</td>\n",
       "      <td>0</td>\n",
       "      <td>1</td>\n",
       "      <td>1</td>\n",
       "      <td>0</td>\n",
       "    </tr>\n",
       "  </tbody>\n",
       "</table>\n",
       "<p>1318 rows × 7 columns</p>\n",
       "</div>"
      ],
      "text/plain": [
       "            Count  Percentage  Segment_type__mobile  Segment_type__university  \\\n",
       "2      499.173606    0.225255                     0                         0   \n",
       "4      455.925963    0.211360                     0                         0   \n",
       "5     1091.176696    0.519163                     0                         0   \n",
       "7        1.000000    0.333000                     0                         1   \n",
       "8      878.080463    0.228031                     1                         0   \n",
       "...           ...         ...                   ...                       ...   \n",
       "1886   844.784936    0.452261                     1                         0   \n",
       "1888     1.282776    0.973513                     0                         1   \n",
       "1892  1203.190399    0.312360                     1                         0   \n",
       "1893   806.378820    0.488025                     0                         0   \n",
       "1894  1149.529381    0.488984                     0                         0   \n",
       "\n",
       "      Segment_description__1  Answer__No  Answer__Yes  \n",
       "2                          1           1            0  \n",
       "4                          1           1            0  \n",
       "5                          1           1            0  \n",
       "7                          0           0            1  \n",
       "8                          1           1            0  \n",
       "...                      ...         ...          ...  \n",
       "1886                       1           1            0  \n",
       "1888                       0           1            0  \n",
       "1892                       1           1            0  \n",
       "1893                       1           1            0  \n",
       "1894                       1           1            0  \n",
       "\n",
       "[1318 rows x 7 columns]"
      ]
     },
     "execution_count": 75,
     "metadata": {},
     "output_type": "execute_result"
    }
   ],
   "source": [
    "X_train_encoded = pd.get_dummies(X, prefix=['Segment_type_', 'Segment_description_', 'Answer_'], drop_first=True)\n",
    "X_train_encoded"
   ]
  },
  {
   "cell_type": "code",
   "execution_count": 76,
   "id": "cce69fce-b721-4ad4-8a55-71d18661786b",
   "metadata": {},
   "outputs": [
    {
     "name": "stdout",
     "output_type": "stream",
     "text": [
      "<class 'pandas.core.frame.DataFrame'>\n",
      "Int64Index: 1318 entries, 2 to 1894\n",
      "Data columns (total 7 columns):\n",
      " #   Column                    Non-Null Count  Dtype  \n",
      "---  ------                    --------------  -----  \n",
      " 0   Count                     1318 non-null   float64\n",
      " 1   Percentage                1318 non-null   float64\n",
      " 2   Segment_type__mobile      1318 non-null   uint8  \n",
      " 3   Segment_type__university  1318 non-null   uint8  \n",
      " 4   Segment_description__1    1318 non-null   uint8  \n",
      " 5   Answer__No                1318 non-null   uint8  \n",
      " 6   Answer__Yes               1318 non-null   uint8  \n",
      "dtypes: float64(2), uint8(5)\n",
      "memory usage: 37.3 KB\n"
     ]
    }
   ],
   "source": [
    "X_train_encoded.info()"
   ]
  },
  {
   "cell_type": "markdown",
   "id": "d489f9f0-3eae-445b-a539-4690828cd8a4",
   "metadata": {},
   "source": [
    "## Model Training\n",
    "---"
   ]
  },
  {
   "cell_type": "markdown",
   "id": "f1bda090-336f-4496-964f-680d197fbe83",
   "metadata": {},
   "source": [
    "#### Importing packages\n",
    "---"
   ]
  },
  {
   "cell_type": "code",
   "execution_count": 77,
   "id": "4e2b98ef-e625-4064-93a8-6170fcccc57f",
   "metadata": {},
   "outputs": [],
   "source": [
    "# Loading required Packages for modeling & Data Preprocessing\n",
    "\n",
    "# Model_selection Packages\n",
    "from sklearn.model_selection import train_test_split\n",
    "\n",
    "# Machine Learning Model Packages\n",
    "from sklearn.linear_model import LogisticRegression\n",
    "from sklearn.naive_bayes import GaussianNB\n",
    "from sklearn.neighbors import KNeighborsClassifier\n",
    "from sklearn.discriminant_analysis import LinearDiscriminantAnalysis, QuadraticDiscriminantAnalysis\n",
    "from sklearn import metrics\n",
    "from sklearn.inspection import DecisionBoundaryDisplay\n",
    "\n",
    "\n",
    "# Model Evaluating Packages\n",
    "from sklearn.metrics import accuracy_score, confusion_matrix, classification_report\n"
   ]
  },
  {
   "cell_type": "markdown",
   "id": "97eee0da-2c16-49e2-98eb-34ef7c0b8edd",
   "metadata": {},
   "source": [
    "#### Sampling of data\n",
    "---"
   ]
  },
  {
   "cell_type": "code",
   "execution_count": 78,
   "id": "e50d2caa-2f8f-4c0c-98e6-ebb3b51481e1",
   "metadata": {},
   "outputs": [
    {
     "name": "stdout",
     "output_type": "stream",
     "text": [
      "Shape of - X_train (988, 7), X_test (330, 7), y_train (988,), y_test (330,).\n"
     ]
    }
   ],
   "source": [
    "# Split train dataset in Train and test to test the performance matrix of the model\n",
    "X_train, X_test, y_train, y_test = train_test_split(X_train_encoded, y, test_size = .25, random_state=0)\n",
    "print(f\"Shape of - X_train {X_train.shape}, X_test {X_test.shape}, y_train {y_train.shape}, y_test {y_test.shape}.\")"
   ]
  },
  {
   "cell_type": "markdown",
   "id": "089f1d90-87be-4aa8-9cd4-c383584b4183",
   "metadata": {},
   "source": [
    "### Logistic Regression\n",
    "---"
   ]
  },
  {
   "cell_type": "code",
   "execution_count": 79,
   "id": "2b426fe6-40e2-40db-940e-264990706a5d",
   "metadata": {},
   "outputs": [
    {
     "name": "stdout",
     "output_type": "stream",
     "text": [
      "Accuracy: 0.7606060606060606\n",
      "Confusion Matrix:\n",
      " [[141  39]\n",
      " [ 40 110]]\n",
      "Classification Report:\n",
      "               precision    recall  f1-score   support\n",
      "\n",
      "           0       0.78      0.78      0.78       180\n",
      "           1       0.74      0.73      0.74       150\n",
      "\n",
      "    accuracy                           0.76       330\n",
      "   macro avg       0.76      0.76      0.76       330\n",
      "weighted avg       0.76      0.76      0.76       330\n",
      "\n"
     ]
    },
    {
     "name": "stderr",
     "output_type": "stream",
     "text": [
      "/Users/sony/anaconda3/lib/python3.10/site-packages/sklearn/linear_model/_logistic.py:458: ConvergenceWarning: lbfgs failed to converge (status=1):\n",
      "STOP: TOTAL NO. of ITERATIONS REACHED LIMIT.\n",
      "\n",
      "Increase the number of iterations (max_iter) or scale the data as shown in:\n",
      "    https://scikit-learn.org/stable/modules/preprocessing.html\n",
      "Please also refer to the documentation for alternative solver options:\n",
      "    https://scikit-learn.org/stable/modules/linear_model.html#logistic-regression\n",
      "  n_iter_i = _check_optimize_result(\n"
     ]
    }
   ],
   "source": [
    "from sklearn.linear_model import LogisticRegression\n",
    "\n",
    "\n",
    "# Initialize and train the logistic regression model\n",
    "model = LogisticRegression()\n",
    "model.fit(X_train, y_train)\n",
    "\n",
    "# Predict on the test set\n",
    "y_pred = model.predict(X_test)\n",
    "\n",
    "# Evaluate the model\n",
    "accuracy = accuracy_score(y_test, y_pred)\n",
    "conf_matrix = confusion_matrix(y_test, y_pred)\n",
    "class_report = classification_report(y_test, y_pred)\n",
    "\n",
    "# Print evaluation metrics\n",
    "print(\"Accuracy:\", accuracy)\n",
    "print(\"Confusion Matrix:\\n\", conf_matrix)\n",
    "print(\"Classification Report:\\n\", class_report)"
   ]
  },
  {
   "cell_type": "markdown",
   "id": "8bf13b79-75f0-4afa-aa2d-0604895087a7",
   "metadata": {},
   "source": [
    "### Logistic Regression Accuracy Score : 0.76\n",
    "---"
   ]
  },
  {
   "cell_type": "markdown",
   "id": "4bc7e19d-ebac-4422-b582-a784515e72bb",
   "metadata": {},
   "source": [
    "### LDA\n",
    "---"
   ]
  },
  {
   "cell_type": "code",
   "execution_count": 80,
   "id": "7155b835-7dee-4142-86c1-ebc057972d3e",
   "metadata": {},
   "outputs": [
    {
     "name": "stdout",
     "output_type": "stream",
     "text": [
      "Confusion matrix (rows: true classes, col: predicted classes)\n",
      "[[140  40]\n",
      " [ 44 106]]\n"
     ]
    },
    {
     "data": {
      "image/png": "[encoded data removed]",
      "text/plain": [
       "<Figure size 640x480 with 2 Axes>"
      ]
     },
     "metadata": {},
     "output_type": "display_data"
    }
   ],
   "source": [
    "# create LDA model\n",
    "lda = LinearDiscriminantAnalysis(store_covariance=True)\n",
    "\n",
    "# fit the parameters\n",
    "lda.fit(X_train, y_train)\n",
    "\n",
    "y_pred_lda = lda.predict(X_test)\n",
    "\n",
    "# confusion matrix\n",
    "cm_lda = metrics.confusion_matrix(y_test, y_pred_lda)\n",
    "print('Confusion matrix (rows: true classes, col: predicted classes)')\n",
    "print(cm_lda)\n",
    "\n",
    "# plot confusion matrix\n",
    "#disp = metrics.ConfusionMatrixDisplay(confusion_matrix=cm, display_labels=lda.classes_)\n",
    "disp = metrics.ConfusionMatrixDisplay(cm_lda, display_labels=lda.classes_)\n",
    "disp.plot()\n",
    "plt.show()"
   ]
  },
  {
   "cell_type": "code",
   "execution_count": 81,
   "id": "683d91db-df69-4772-830e-3d946865c4ea",
   "metadata": {},
   "outputs": [
    {
     "name": "stdout",
     "output_type": "stream",
     "text": [
      "Accuracy (fraction of correctly predicted samples on test set): 0.745\n"
     ]
    }
   ],
   "source": [
    "# Fraction of correctly predicted samples in test set\n",
    "ac_lda = metrics.accuracy_score(y_test, y_pred_lda, normalize=True)\n",
    "print(f'Accuracy (fraction of correctly predicted samples on test set): {ac_lda:.3f}')"
   ]
  },
  {
   "cell_type": "code",
   "execution_count": 82,
   "id": "517e1d61-61b4-4e35-8614-d86416107f20",
   "metadata": {},
   "outputs": [
    {
     "name": "stdout",
     "output_type": "stream",
     "text": [
      "              precision    recall  f1-score   support\n",
      "\n",
      "           0       0.76      0.78      0.77       180\n",
      "           1       0.73      0.71      0.72       150\n",
      "\n",
      "    accuracy                           0.75       330\n",
      "   macro avg       0.74      0.74      0.74       330\n",
      "weighted avg       0.75      0.75      0.75       330\n",
      "\n"
     ]
    }
   ],
   "source": [
    "# some indicators\n",
    "rep_lda = metrics.classification_report(y_test, y_pred_lda)\n",
    "print(rep_lda)"
   ]
  },
  {
   "cell_type": "markdown",
   "id": "198801b2-0cef-4f85-b620-8f111e060cb6",
   "metadata": {},
   "source": [
    "### LDA Accuracy Score : 0.74\n",
    "---"
   ]
  },
  {
   "cell_type": "markdown",
   "id": "2eaeb378-2d9f-40c9-9afb-7df8985868ea",
   "metadata": {},
   "source": [
    "### QDA\n",
    "---"
   ]
  },
  {
   "cell_type": "code",
   "execution_count": 83,
   "id": "0015fb90-f04a-4d8a-936b-e718e49b2e46",
   "metadata": {},
   "outputs": [
    {
     "name": "stdout",
     "output_type": "stream",
     "text": [
      "Confusion matrix (rows: true classes, col: predicted classes)\n",
      "[[140  40]\n",
      " [ 44 106]]\n"
     ]
    },
    {
     "data": {
      "image/png": "[encoded data removed]",
      "text/plain": [
       "<Figure size 640x480 with 2 Axes>"
      ]
     },
     "metadata": {},
     "output_type": "display_data"
    }
   ],
   "source": [
    "# create QDA model\n",
    "qda = QuadraticDiscriminantAnalysis(store_covariance=True)\n",
    "\n",
    "# fit the parameters\n",
    "qda.fit(X_train, y_train)\n",
    "\n",
    "y_pred_qda = lda.predict(X_test)\n",
    "\n",
    "# confusion matrix\n",
    "cm_qda = metrics.confusion_matrix(y_test, y_pred_qda)\n",
    "print('Confusion matrix (rows: true classes, col: predicted classes)')\n",
    "print(cm_qda)\n",
    "\n",
    "# plot confusion matrix\n",
    "#disp = metrics.ConfusionMatrixDisplay(confusion_matrix=cm, display_labels=lda.classes_)\n",
    "disp = metrics.ConfusionMatrixDisplay(cm_qda, display_labels=qda.classes_)\n",
    "disp.plot()\n",
    "plt.show()"
   ]
  },
  {
   "cell_type": "code",
   "execution_count": 84,
   "id": "08308993-151f-4885-abba-571ab4fa3f5e",
   "metadata": {},
   "outputs": [
    {
     "name": "stdout",
     "output_type": "stream",
     "text": [
      "Accuracy (fraction of correctly predicted samples on test set): 0.745\n"
     ]
    }
   ],
   "source": [
    "# Fraction of correctly predicted samples in test set\n",
    "ac_qda = metrics.accuracy_score(y_test, y_pred_qda, normalize=True)\n",
    "print(f'Accuracy (fraction of correctly predicted samples on test set): {ac_qda:.3f}')"
   ]
  },
  {
   "cell_type": "code",
   "execution_count": 85,
   "id": "9d99a565-7d42-425d-9de7-eec999357bda",
   "metadata": {},
   "outputs": [
    {
     "name": "stdout",
     "output_type": "stream",
     "text": [
      "              precision    recall  f1-score   support\n",
      "\n",
      "           0       0.76      0.78      0.77       180\n",
      "           1       0.73      0.71      0.72       150\n",
      "\n",
      "    accuracy                           0.75       330\n",
      "   macro avg       0.74      0.74      0.74       330\n",
      "weighted avg       0.75      0.75      0.75       330\n",
      "\n"
     ]
    }
   ],
   "source": [
    "# some indicators\n",
    "rep_qda = metrics.classification_report(y_test, y_pred_qda)\n",
    "print(rep_qda)"
   ]
  },
  {
   "cell_type": "markdown",
   "id": "38fa8b61-6bab-4a57-88c9-91bc7f75f9a5",
   "metadata": {},
   "source": [
    "### QDA Accuracy Score : 0.74\n",
    "---"
   ]
  },
  {
   "cell_type": "markdown",
   "id": "2a537ae6-d0ed-415d-92ee-8fba31813588",
   "metadata": {},
   "source": [
    "### Naive Bayes Classifier\n",
    "---"
   ]
  },
  {
   "cell_type": "code",
   "execution_count": 86,
   "id": "ff26821d-f1c1-40ad-b0cc-2d2cdc18dbde",
   "metadata": {},
   "outputs": [
    {
     "data": {
      "text/html": [
       "<style>#sk-container-id-1 {color: black;background-color: white;}#sk-container-id-1 pre{padding: 0;}#sk-container-id-1 div.sk-toggleable {background-color: white;}#sk-container-id-1 label.sk-toggleable__label {cursor: pointer;display: block;width: 100%;margin-bottom: 0;padding: 0.3em;box-sizing: border-box;text-align: center;}#sk-container-id-1 label.sk-toggleable__label-arrow:before {content: \"▸\";float: left;margin-right: 0.25em;color: #696969;}#sk-container-id-1 label.sk-toggleable__label-arrow:hover:before {color: black;}#sk-container-id-1 div.sk-estimator:hover label.sk-toggleable__label-arrow:before {color: black;}#sk-container-id-1 div.sk-toggleable__content {max-height: 0;max-width: 0;overflow: hidden;text-align: left;background-color: #f0f8ff;}#sk-container-id-1 div.sk-toggleable__content pre {margin: 0.2em;color: black;border-radius: 0.25em;background-color: #f0f8ff;}#sk-container-id-1 input.sk-toggleable__control:checked~div.sk-toggleable__content {max-height: 200px;max-width: 100%;overflow: auto;}#sk-container-id-1 input.sk-toggleable__control:checked~label.sk-toggleable__label-arrow:before {content: \"▾\";}#sk-container-id-1 div.sk-estimator input.sk-toggleable__control:checked~label.sk-toggleable__label {background-color: #d4ebff;}#sk-container-id-1 div.sk-label input.sk-toggleable__control:checked~label.sk-toggleable__label {background-color: #d4ebff;}#sk-container-id-1 input.sk-hidden--visually {border: 0;clip: rect(1px 1px 1px 1px);clip: rect(1px, 1px, 1px, 1px);height: 1px;margin: -1px;overflow: hidden;padding: 0;position: absolute;width: 1px;}#sk-container-id-1 div.sk-estimator {font-family: monospace;background-color: #f0f8ff;border: 1px dotted black;border-radius: 0.25em;box-sizing: border-box;margin-bottom: 0.5em;}#sk-container-id-1 div.sk-estimator:hover {background-color: #d4ebff;}#sk-container-id-1 div.sk-parallel-item::after {content: \"\";width: 100%;border-bottom: 1px solid gray;flex-grow: 1;}#sk-container-id-1 div.sk-label:hover label.sk-toggleable__label {background-color: #d4ebff;}#sk-container-id-1 div.sk-serial::before {content: \"\";position: absolute;border-left: 1px solid gray;box-sizing: border-box;top: 0;bottom: 0;left: 50%;z-index: 0;}#sk-container-id-1 div.sk-serial {display: flex;flex-direction: column;align-items: center;background-color: white;padding-right: 0.2em;padding-left: 0.2em;position: relative;}#sk-container-id-1 div.sk-item {position: relative;z-index: 1;}#sk-container-id-1 div.sk-parallel {display: flex;align-items: stretch;justify-content: center;background-color: white;position: relative;}#sk-container-id-1 div.sk-item::before, #sk-container-id-1 div.sk-parallel-item::before {content: \"\";position: absolute;border-left: 1px solid gray;box-sizing: border-box;top: 0;bottom: 0;left: 50%;z-index: -1;}#sk-container-id-1 div.sk-parallel-item {display: flex;flex-direction: column;z-index: 1;position: relative;background-color: white;}#sk-container-id-1 div.sk-parallel-item:first-child::after {align-self: flex-end;width: 50%;}#sk-container-id-1 div.sk-parallel-item:last-child::after {align-self: flex-start;width: 50%;}#sk-container-id-1 div.sk-parallel-item:only-child::after {width: 0;}#sk-container-id-1 div.sk-dashed-wrapped {border: 1px dashed gray;margin: 0 0.4em 0.5em 0.4em;box-sizing: border-box;padding-bottom: 0.4em;background-color: white;}#sk-container-id-1 div.sk-label label {font-family: monospace;font-weight: bold;display: inline-block;line-height: 1.2em;}#sk-container-id-1 div.sk-label-container {text-align: center;}#sk-container-id-1 div.sk-container {/* jupyter's `normalize.less` sets `[hidden] { display: none; }` but bootstrap.min.css set `[hidden] { display: none !important; }` so we also need the `!important` here to be able to override the default hidden behavior on the sphinx rendered scikit-learn.org. See: https://github.com/scikit-learn/scikit-learn/issues/21755 */display: inline-block !important;position: relative;}#sk-container-id-1 div.sk-text-repr-fallback {display: none;}</style><div id=\"sk-container-id-1\" class=\"sk-top-container\"><div class=\"sk-text-repr-fallback\"><pre>GaussianNB()</pre><b>In a Jupyter environment, please rerun this cell to show the HTML representation or trust the notebook. <br />On GitHub, the HTML representation is unable to render, please try loading this page with nbviewer.org.</b></div><div class=\"sk-container\" hidden><div class=\"sk-item\"><div class=\"sk-estimator sk-toggleable\"><input class=\"sk-toggleable__control sk-hidden--visually\" id=\"sk-estimator-id-1\" type=\"checkbox\" checked><label for=\"sk-estimator-id-1\" class=\"sk-toggleable__label sk-toggleable__label-arrow\">GaussianNB</label><div class=\"sk-toggleable__content\"><pre>GaussianNB()</pre></div></div></div></div></div>"
      ],
      "text/plain": [
       "GaussianNB()"
      ]
     },
     "execution_count": 86,
     "metadata": {},
     "output_type": "execute_result"
    }
   ],
   "source": [
    "# create NB model\n",
    "nb = GaussianNB()\n",
    "\n",
    "# fit the parameters\n",
    "nb.fit(X_train, y_train)"
   ]
  },
  {
   "cell_type": "code",
   "execution_count": 87,
   "id": "78c82268-9818-4df6-9f58-d5621b802beb",
   "metadata": {},
   "outputs": [
    {
     "name": "stdout",
     "output_type": "stream",
     "text": [
      "Confusion matrix (rows: true classes, col: predicted classes)\n",
      "[[134  46]\n",
      " [ 59  91]]\n"
     ]
    },
    {
     "data": {
      "image/png": "[encoded data removed]",
      "text/plain": [
       "<Figure size 640x480 with 2 Axes>"
      ]
     },
     "metadata": {},
     "output_type": "display_data"
    }
   ],
   "source": [
    "# predictions using training set (by default, the threshold over the posterior is 0.5)\n",
    "y_pred_nb = nb.predict(X_test)\n",
    "\n",
    "# confusion matrix\n",
    "cm_nb = metrics.confusion_matrix(y_test, y_pred_nb)\n",
    "print('Confusion matrix (rows: true classes, col: predicted classes)')\n",
    "print(cm_nb)\n",
    "\n",
    "# plot confusion matrix\n",
    "#disp = metrics.ConfusionMatrixDisplay(confusion_matrix=cm, display_labels=lda.classes_)\n",
    "disp = metrics.ConfusionMatrixDisplay(cm_nb, display_labels=nb.classes_)\n",
    "disp.plot()\n",
    "plt.show()"
   ]
  },
  {
   "cell_type": "code",
   "execution_count": 88,
   "id": "40263be1-6fac-4e9e-b36b-6354f9e84ca1",
   "metadata": {},
   "outputs": [
    {
     "name": "stdout",
     "output_type": "stream",
     "text": [
      "Accuracy (fraction of correctly predicted samples on test set): 0.682\n"
     ]
    }
   ],
   "source": [
    "# Fraction of correctly predicted samples in test set\n",
    "ac_nb = metrics.accuracy_score(y_test, y_pred_nb, normalize=True)\n",
    "print(f'Accuracy (fraction of correctly predicted samples on test set): {ac_nb:.3f}')"
   ]
  },
  {
   "cell_type": "code",
   "execution_count": 89,
   "id": "ecc68e98-7913-4ab1-b8cb-7ab1593ec8bb",
   "metadata": {},
   "outputs": [
    {
     "name": "stdout",
     "output_type": "stream",
     "text": [
      "              precision    recall  f1-score   support\n",
      "\n",
      "           0       0.69      0.74      0.72       180\n",
      "           1       0.66      0.61      0.63       150\n",
      "\n",
      "    accuracy                           0.68       330\n",
      "   macro avg       0.68      0.68      0.68       330\n",
      "weighted avg       0.68      0.68      0.68       330\n",
      "\n"
     ]
    }
   ],
   "source": [
    "# some indicators\n",
    "rep_nb = metrics.classification_report(y_test, y_pred_nb)\n",
    "print(rep_nb)"
   ]
  },
  {
   "cell_type": "markdown",
   "id": "8b2db83c-6f82-4afb-88b9-fe5c7f912bec",
   "metadata": {},
   "source": [
    "### Naive Bayes Accuracy Score : 0.682\n",
    "---"
   ]
  },
  {
   "cell_type": "markdown",
   "id": "cb082065-354a-4904-880d-a232b46eee92",
   "metadata": {},
   "source": [
    "### KNN\n",
    "---"
   ]
  },
  {
   "cell_type": "code",
   "execution_count": 90,
   "id": "b087dd0a-1435-4645-889d-8ebc33cd4bd8",
   "metadata": {},
   "outputs": [
    {
     "data": {
      "text/html": [
       "<style>#sk-container-id-2 {color: black;background-color: white;}#sk-container-id-2 pre{padding: 0;}#sk-container-id-2 div.sk-toggleable {background-color: white;}#sk-container-id-2 label.sk-toggleable__label {cursor: pointer;display: block;width: 100%;margin-bottom: 0;padding: 0.3em;box-sizing: border-box;text-align: center;}#sk-container-id-2 label.sk-toggleable__label-arrow:before {content: \"▸\";float: left;margin-right: 0.25em;color: #696969;}#sk-container-id-2 label.sk-toggleable__label-arrow:hover:before {color: black;}#sk-container-id-2 div.sk-estimator:hover label.sk-toggleable__label-arrow:before {color: black;}#sk-container-id-2 div.sk-toggleable__content {max-height: 0;max-width: 0;overflow: hidden;text-align: left;background-color: #f0f8ff;}#sk-container-id-2 div.sk-toggleable__content pre {margin: 0.2em;color: black;border-radius: 0.25em;background-color: #f0f8ff;}#sk-container-id-2 input.sk-toggleable__control:checked~div.sk-toggleable__content {max-height: 200px;max-width: 100%;overflow: auto;}#sk-container-id-2 input.sk-toggleable__control:checked~label.sk-toggleable__label-arrow:before {content: \"▾\";}#sk-container-id-2 div.sk-estimator input.sk-toggleable__control:checked~label.sk-toggleable__label {background-color: #d4ebff;}#sk-container-id-2 div.sk-label input.sk-toggleable__control:checked~label.sk-toggleable__label {background-color: #d4ebff;}#sk-container-id-2 input.sk-hidden--visually {border: 0;clip: rect(1px 1px 1px 1px);clip: rect(1px, 1px, 1px, 1px);height: 1px;margin: -1px;overflow: hidden;padding: 0;position: absolute;width: 1px;}#sk-container-id-2 div.sk-estimator {font-family: monospace;background-color: #f0f8ff;border: 1px dotted black;border-radius: 0.25em;box-sizing: border-box;margin-bottom: 0.5em;}#sk-container-id-2 div.sk-estimator:hover {background-color: #d4ebff;}#sk-container-id-2 div.sk-parallel-item::after {content: \"\";width: 100%;border-bottom: 1px solid gray;flex-grow: 1;}#sk-container-id-2 div.sk-label:hover label.sk-toggleable__label {background-color: #d4ebff;}#sk-container-id-2 div.sk-serial::before {content: \"\";position: absolute;border-left: 1px solid gray;box-sizing: border-box;top: 0;bottom: 0;left: 50%;z-index: 0;}#sk-container-id-2 div.sk-serial {display: flex;flex-direction: column;align-items: center;background-color: white;padding-right: 0.2em;padding-left: 0.2em;position: relative;}#sk-container-id-2 div.sk-item {position: relative;z-index: 1;}#sk-container-id-2 div.sk-parallel {display: flex;align-items: stretch;justify-content: center;background-color: white;position: relative;}#sk-container-id-2 div.sk-item::before, #sk-container-id-2 div.sk-parallel-item::before {content: \"\";position: absolute;border-left: 1px solid gray;box-sizing: border-box;top: 0;bottom: 0;left: 50%;z-index: -1;}#sk-container-id-2 div.sk-parallel-item {display: flex;flex-direction: column;z-index: 1;position: relative;background-color: white;}#sk-container-id-2 div.sk-parallel-item:first-child::after {align-self: flex-end;width: 50%;}#sk-container-id-2 div.sk-parallel-item:last-child::after {align-self: flex-start;width: 50%;}#sk-container-id-2 div.sk-parallel-item:only-child::after {width: 0;}#sk-container-id-2 div.sk-dashed-wrapped {border: 1px dashed gray;margin: 0 0.4em 0.5em 0.4em;box-sizing: border-box;padding-bottom: 0.4em;background-color: white;}#sk-container-id-2 div.sk-label label {font-family: monospace;font-weight: bold;display: inline-block;line-height: 1.2em;}#sk-container-id-2 div.sk-label-container {text-align: center;}#sk-container-id-2 div.sk-container {/* jupyter's `normalize.less` sets `[hidden] { display: none; }` but bootstrap.min.css set `[hidden] { display: none !important; }` so we also need the `!important` here to be able to override the default hidden behavior on the sphinx rendered scikit-learn.org. See: https://github.com/scikit-learn/scikit-learn/issues/21755 */display: inline-block !important;position: relative;}#sk-container-id-2 div.sk-text-repr-fallback {display: none;}</style><div id=\"sk-container-id-2\" class=\"sk-top-container\"><div class=\"sk-text-repr-fallback\"><pre>KNeighborsClassifier(n_neighbors=3)</pre><b>In a Jupyter environment, please rerun this cell to show the HTML representation or trust the notebook. <br />On GitHub, the HTML representation is unable to render, please try loading this page with nbviewer.org.</b></div><div class=\"sk-container\" hidden><div class=\"sk-item\"><div class=\"sk-estimator sk-toggleable\"><input class=\"sk-toggleable__control sk-hidden--visually\" id=\"sk-estimator-id-2\" type=\"checkbox\" checked><label for=\"sk-estimator-id-2\" class=\"sk-toggleable__label sk-toggleable__label-arrow\">KNeighborsClassifier</label><div class=\"sk-toggleable__content\"><pre>KNeighborsClassifier(n_neighbors=3)</pre></div></div></div></div></div>"
      ],
      "text/plain": [
       "KNeighborsClassifier(n_neighbors=3)"
      ]
     },
     "execution_count": 90,
     "metadata": {},
     "output_type": "execute_result"
    }
   ],
   "source": [
    "# create KNN model, K = #neighbors\n",
    "K = 3\n",
    "knn = KNeighborsClassifier(n_neighbors=K)\n",
    "\n",
    "# fit the parameters\n",
    "knn.fit(X_train, y_train)"
   ]
  },
  {
   "cell_type": "code",
   "execution_count": 91,
   "id": "40251fe8-bd63-499d-95eb-ebd7e5229a49",
   "metadata": {},
   "outputs": [
    {
     "name": "stdout",
     "output_type": "stream",
     "text": [
      "Confusion matrix (rows: true classes, col: predicted classes)\n",
      "[[148  32]\n",
      " [ 26 124]]\n"
     ]
    },
    {
     "data": {
      "image/png": "[encoded data removed]",
      "text/plain": [
       "<Figure size 640x480 with 2 Axes>"
      ]
     },
     "metadata": {},
     "output_type": "display_data"
    }
   ],
   "source": [
    "# predictions using training set (by default, the threshold over the posterior is 0.5)\n",
    "y_predk = knn.predict(X_test)\n",
    "\n",
    "# confusion matrix\n",
    "cmk = metrics.confusion_matrix(y_test, y_predk)\n",
    "print('Confusion matrix (rows: true classes, col: predicted classes)')\n",
    "print(cmk)\n",
    "\n",
    "# plot confusion matrix\n",
    "disp = metrics.ConfusionMatrixDisplay(cmk, display_labels=knn.classes_)\n",
    "disp.plot()\n",
    "plt.show()"
   ]
  },
  {
   "cell_type": "code",
   "execution_count": 92,
   "id": "1ca2ee86-39fe-447a-a160-834e93b5dc3a",
   "metadata": {},
   "outputs": [
    {
     "name": "stdout",
     "output_type": "stream",
     "text": [
      "Accuracy (fraction of correctly predicted samples on test set): 0.824\n"
     ]
    }
   ],
   "source": [
    "#Fraction of correctly predicted samples in test set\n",
    "ack = metrics.accuracy_score(y_test, y_predk, normalize=True)\n",
    "print(f'Accuracy (fraction of correctly predicted samples on test set): {ack:.3f}')"
   ]
  },
  {
   "cell_type": "code",
   "execution_count": 93,
   "id": "6967542b-5edf-48f9-b5bb-4fdc80634ed6",
   "metadata": {},
   "outputs": [
    {
     "name": "stdout",
     "output_type": "stream",
     "text": [
      "              precision    recall  f1-score   support\n",
      "\n",
      "           0       0.85      0.82      0.84       180\n",
      "           1       0.79      0.83      0.81       150\n",
      "\n",
      "    accuracy                           0.82       330\n",
      "   macro avg       0.82      0.82      0.82       330\n",
      "weighted avg       0.83      0.82      0.82       330\n",
      "\n"
     ]
    }
   ],
   "source": [
    "# some indicators\n",
    "repk = metrics.classification_report(y_test, y_predk)\n",
    "print(repk)"
   ]
  },
  {
   "cell_type": "markdown",
   "id": "0461b258-4382-42e1-b9f6-c5bf2be400fc",
   "metadata": {},
   "source": [
    "### KNN Accuracy Score : 0.824\n",
    "---\n",
    "Remarks:\n",
    "* Although KNN does not need train, still checking with the training set shows that in this dataset it works with the highest Accuracy score compared to other classification model."
   ]
  },
  {
   "cell_type": "markdown",
   "id": "37f4c67f-e3a1-40c3-af15-ebf7ae321585",
   "metadata": {},
   "source": [
    "---\n",
    "### The KNN model is best for predicting the test dataset as its accuracy score is highest.\n",
    "---"
   ]
  },
  {
   "cell_type": "markdown",
   "id": "d7abfd87-da07-4c36-81a7-6fa47cc71a40",
   "metadata": {},
   "source": [
    "## Data Prepreprocessing of the Test dataset\n",
    "---"
   ]
  },
  {
   "cell_type": "markdown",
   "id": "b92d92e7-1833-44c0-8dd7-f73d67e837d7",
   "metadata": {},
   "source": [
    "#### Test Dataset"
   ]
  },
  {
   "cell_type": "code",
   "execution_count": 94,
   "id": "e964f05a-ba09-4e64-83a2-a13a15c5fab4",
   "metadata": {},
   "outputs": [],
   "source": [
    "df_class_test1 = pd.read_csv('test.csv')"
   ]
  },
  {
   "cell_type": "code",
   "execution_count": 95,
   "id": "8f95dc98-49f3-4354-8aef-3283c1a9e1b4",
   "metadata": {},
   "outputs": [],
   "source": [
    "# Test data\n",
    "df_class_test = pd.read_csv('test.csv')"
   ]
  },
  {
   "cell_type": "code",
   "execution_count": 96,
   "id": "1b541e17-6189-4f9c-b751-25e6489ce260",
   "metadata": {},
   "outputs": [
    {
     "data": {
      "text/plain": [
       "array(['University of California, Davis', 'Meridian, Idaho',\n",
       "       'Westport, CT', 'San Diego State University', 'UMass Amherst',\n",
       "       'Iowa State University', 'Minnesota State University Mankato',\n",
       "       'University of Rochester', 'University of Mississippi',\n",
       "       'Columbia University', 'Lehigh University',\n",
       "       'Mississippi State University', 'Indiana University',\n",
       "       'St. Lawrence University', 'University of Notre Dame',\n",
       "       'Duke University', 'North Carolina State',\n",
       "       'University of Central Oklahoma', 'Castleton State College',\n",
       "       'Michigan Technological University', 'University of Pennsylvania',\n",
       "       'Miami University (Ohio)', 'Brigham Young University',\n",
       "       'University of Wisconsin-La Crosse', 'Texas Tech University',\n",
       "       'Boston College', 'Tulane University', 'University of Oregon',\n",
       "       'Mobile respondents', 'University of Wisconsin-Whitewater',\n",
       "       'University of Kentucky', 'Southern Methodist University',\n",
       "       'Northwestern University', 'Michigan State University',\n",
       "       'University of Texas', 'Whatsgoodly University', 'Yale University',\n",
       "       'University of Michigan', 'Baylor University',\n",
       "       'University of California, Berkeley', 'University of Virginia',\n",
       "       'Penn State University', 'Wesleyan University',\n",
       "       'Randolph-Macon College', 'University of California, Los Angeles',\n",
       "       'University of North Carolina', 'Middlebury College',\n",
       "       'Case Western Reserve University', 'University of Georgia',\n",
       "       'University of Iowa', 'Georgetown University',\n",
       "       'Gonzaga University', 'Oregon State University',\n",
       "       'Bucknell University', 'University of Missouri',\n",
       "       'University of Florida', 'University of Pittsburgh',\n",
       "       'Loyola University Maryland', 'Washington State University',\n",
       "       'Syracuse University', 'University of Tampa',\n",
       "       'Sacred Heart University', 'University of Alabama',\n",
       "       'University of Southern California', 'Ohio University',\n",
       "       'Florida State University', 'Elon University',\n",
       "       'University of Wisconsin, Eau Claire', 'Auburn University',\n",
       "       'College of William and Mary', 'Skidmore College',\n",
       "       'University of Kansas', 'University of Wisconsin-Madison',\n",
       "       'Harvard University', 'Louisiana State University',\n",
       "       'University of Illinois', 'Appalachian State University',\n",
       "       'Northern Arizona University', 'Centre College',\n",
       "       'University of California, Santa Cruz', 'University of Buffalo',\n",
       "       'University of Dayton', 'University of Oklahoma',\n",
       "       'Marquette University', 'University of Colorado Boulder',\n",
       "       'Tufts University', 'Emory University',\n",
       "       'Washington University in St. Louis', 'Princeton University',\n",
       "       'Clemson University', 'University of Washington',\n",
       "       'James Madison University', 'University of Miami',\n",
       "       'University of St Andrews', 'Carnegie Mellon University',\n",
       "       'Arkansas State University', 'Vanderbilt University',\n",
       "       'Illinois State', 'Vassar College', 'Texas Christian University',\n",
       "       'Ohio State University'], dtype=object)"
      ]
     },
     "execution_count": 96,
     "metadata": {},
     "output_type": "execute_result"
    }
   ],
   "source": [
    "df_class_test['Segment Description'].unique()"
   ]
  },
  {
   "cell_type": "code",
   "execution_count": 97,
   "id": "1abdff04-3d0e-4d7f-9791-40abae500700",
   "metadata": {},
   "outputs": [
    {
     "name": "stdout",
     "output_type": "stream",
     "text": [
      "Meridian, Idaho                       464\n",
      "University of Notre Dame                5\n",
      "University of California, Berkeley      4\n",
      "University of Rochester                 4\n",
      "University of Mississippi               4\n",
      "                                     ... \n",
      "University of Tampa                     1\n",
      "Ohio University                         1\n",
      "Florida State University                1\n",
      "Elon University                         1\n",
      "Ohio State University                   1\n",
      "Name: Segment Description, Length: 101, dtype: int64\n",
      "\n",
      "\n"
     ]
    }
   ],
   "source": [
    "print(df_class_test['Segment Description'].value_counts())\n",
    "print('\\n')"
   ]
  },
  {
   "cell_type": "code",
   "execution_count": 98,
   "id": "dee273e8-98be-4c30-8324-186b54b04e65",
   "metadata": {},
   "outputs": [],
   "source": [
    "# Replace Other universities\n",
    "df_class_test['Segment Description'].replace(['Westport, CT', 'San Diego State University', 'UMass Amherst',\n",
    "       'Iowa State University', 'Minnesota State University Mankato',\n",
    "       'University of Rochester', 'University of Mississippi',\n",
    "       'Columbia University', 'Lehigh University',\n",
    "       'Mississippi State University', 'Indiana University',\n",
    "       'St. Lawrence University', 'University of Notre Dame',\n",
    "       'Duke University', 'North Carolina State',\n",
    "       'University of Central Oklahoma', 'Castleton State College',\n",
    "       'Michigan Technological University', 'University of Pennsylvania',\n",
    "       'Miami University (Ohio)', 'Brigham Young University',\n",
    "       'University of Wisconsin-La Crosse', 'Texas Tech University',\n",
    "       'Boston College', 'Tulane University', 'University of Oregon',\n",
    "       'Mobile respondents', 'University of Wisconsin-Whitewater',\n",
    "       'University of Kentucky', 'Southern Methodist University',\n",
    "       'Northwestern University', 'Michigan State University',\n",
    "       'University of Texas', 'Whatsgoodly University', 'Yale University',\n",
    "       'University of Michigan', 'Baylor University',\n",
    "       'University of California, Berkeley', 'University of Virginia',\n",
    "       'Penn State University', 'Wesleyan University',\n",
    "       'Randolph-Macon College', 'University of California, Los Angeles',\n",
    "       'University of North Carolina', 'Middlebury College',\n",
    "       'Case Western Reserve University', 'University of Georgia',\n",
    "       'University of Iowa', 'Georgetown University',\n",
    "       'Gonzaga University', 'Oregon State University',\n",
    "       'Bucknell University', 'University of Missouri',\n",
    "       'University of Florida', 'University of Pittsburgh',\n",
    "       'Loyola University Maryland', 'Washington State University',\n",
    "       'Syracuse University', 'University of Tampa',\n",
    "       'Sacred Heart University', 'University of Alabama',\n",
    "       'University of Southern California', 'Ohio University',\n",
    "       'Florida State University', 'Elon University',\n",
    "       'University of Wisconsin, Eau Claire', 'Auburn University',\n",
    "       'College of William and Mary', 'Skidmore College',\n",
    "       'University of Kansas', 'University of Wisconsin-Madison',\n",
    "       'Harvard University', 'Louisiana State University',\n",
    "       'University of Illinois', 'Appalachian State University',\n",
    "       'Northern Arizona University', 'Centre College',\n",
    "       'University of California, Santa Cruz', 'University of Buffalo',\n",
    "       'University of Dayton', 'University of Oklahoma',\n",
    "       'Marquette University', 'University of Colorado Boulder',\n",
    "       'Tufts University', 'Emory University',\n",
    "       'Washington University in St. Louis', 'Princeton University',\n",
    "       'Clemson University', 'University of Washington',\n",
    "       'James Madison University', 'University of Miami',\n",
    "       'University of St Andrews', 'Carnegie Mellon University',\n",
    "       'Arkansas State University', 'Vanderbilt University',\n",
    "       'Illinois State', 'Vassar College', 'Texas Christian University',\n",
    "       'Ohio State University','University of California, Davis'], 'Other_Segment_description', inplace = True)"
   ]
  },
  {
   "cell_type": "code",
   "execution_count": 99,
   "id": "d9bdeca2-99c5-437c-895a-f8f6c2c68807",
   "metadata": {},
   "outputs": [
    {
     "name": "stdout",
     "output_type": "stream",
     "text": [
      "Unique values in Segment Description are ['Other_Segment_description' 'Meridian, Idaho'].\n"
     ]
    }
   ],
   "source": [
    "# Checking unique values as -\n",
    "print(f\"Unique values in Segment Description are {df_class_test['Segment Description'].unique()}.\")"
   ]
  },
  {
   "cell_type": "code",
   "execution_count": 100,
   "id": "fea09eff-d2a3-4f15-beae-9456e05e53a7",
   "metadata": {},
   "outputs": [],
   "source": [
    "# Replaceing 'Other_Segment_description', 'Meridian, Idaho' with '0', '1' with respectively as -\n",
    "df_class_test['Segment Description'].replace(['Other_Segment_description', 'Meridian, Idaho'], ['0', '1'], inplace = True)"
   ]
  },
  {
   "cell_type": "code",
   "execution_count": 101,
   "id": "15aef002-6e01-4b78-a31e-9a8e86f69620",
   "metadata": {},
   "outputs": [
    {
     "name": "stdout",
     "output_type": "stream",
     "text": [
      ">>> Tinder df_class_test - Segment Description - \n",
      "----------------------------------------\n",
      "1    464\n",
      "0    168\n",
      "Name: Segment Description, dtype: int64\n",
      "\n",
      "\n"
     ]
    }
   ],
   "source": [
    "# Display Value counts for 'Other_Segment_description', 'Meridian, Idaho' respectively as -\n",
    "print(\">>> Tinder df_class_test - Segment Description - \")\n",
    "print(\"-\" * 40)\n",
    "print(df_class_test['Segment Description'].value_counts())\n",
    "print('\\n')"
   ]
  },
  {
   "cell_type": "code",
   "execution_count": 102,
   "id": "565326f9-4f0b-4811-a613-b9804ccef832",
   "metadata": {},
   "outputs": [
    {
     "name": "stdout",
     "output_type": "stream",
     "text": [
      "web           171\n",
      "university    168\n",
      "mobile        149\n",
      "gender        144\n",
      "Name: Segment type, dtype: int64\n",
      "\n",
      "\n"
     ]
    }
   ],
   "source": [
    "print(df_class_test1['Segment type'].value_counts())\n",
    "print('\\n')"
   ]
  },
  {
   "cell_type": "markdown",
   "id": "3b2afd12-91a2-4491-81d8-7a79c3e49697",
   "metadata": {},
   "source": [
    "Remarks :\n",
    "* There is a extra value 'web' in the column 'Segment Type' which is not present in Train dataset. So as the model is not being trained with 'web' as value, we need to also remove it from the test dataset. This might be due to data inconsistency."
   ]
  },
  {
   "cell_type": "code",
   "execution_count": 103,
   "id": "fac059c6-f75c-420d-86f6-08cea5492471",
   "metadata": {},
   "outputs": [],
   "source": [
    "value_to_remove = 'web'\n",
    "df_class_test = df_class_test[df_class_test['Segment type'] != value_to_remove]"
   ]
  },
  {
   "cell_type": "code",
   "execution_count": 104,
   "id": "2f53d9f5-2f28-4b10-a5c9-99eb8340db08",
   "metadata": {},
   "outputs": [
    {
     "name": "stdout",
     "output_type": "stream",
     "text": [
      "university    168\n",
      "mobile        149\n",
      "gender        144\n",
      "Name: Segment type, dtype: int64\n",
      "\n",
      "\n"
     ]
    }
   ],
   "source": [
    "print(df_class_test['Segment type'].value_counts())\n",
    "print('\\n')"
   ]
  },
  {
   "cell_type": "code",
   "execution_count": 105,
   "id": "9a65fab7-26c8-4430-804d-4008a661310b",
   "metadata": {},
   "outputs": [
    {
     "data": {
      "text/plain": [
       "(461, 6)"
      ]
     },
     "execution_count": 105,
     "metadata": {},
     "output_type": "execute_result"
    }
   ],
   "source": [
    "df_class_test.shape"
   ]
  },
  {
   "cell_type": "code",
   "execution_count": 106,
   "id": "3e1bbd31-599f-490c-a47b-da065e1a7eda",
   "metadata": {},
   "outputs": [],
   "source": [
    "X_test_encoded = pd.get_dummies(df_class_test, prefix=['Segment_type_', 'Segment_description_', 'Answer_'], drop_first=True)"
   ]
  },
  {
   "cell_type": "code",
   "execution_count": 107,
   "id": "3f8ab6e2-f2e5-4093-800a-bf942274d9dc",
   "metadata": {},
   "outputs": [
    {
     "data": {
      "text/html": [
       "<div>\n",
       "<style scoped>\n",
       "    .dataframe tbody tr th:only-of-type {\n",
       "        vertical-align: middle;\n",
       "    }\n",
       "\n",
       "    .dataframe tbody tr th {\n",
       "        vertical-align: top;\n",
       "    }\n",
       "\n",
       "    .dataframe thead th {\n",
       "        text-align: right;\n",
       "    }\n",
       "</style>\n",
       "<table border=\"1\" class=\"dataframe\">\n",
       "  <thead>\n",
       "    <tr style=\"text-align: right;\">\n",
       "      <th></th>\n",
       "      <th>Count</th>\n",
       "      <th>Percentage</th>\n",
       "      <th>Segment_type__mobile</th>\n",
       "      <th>Segment_type__university</th>\n",
       "      <th>Segment_description__1</th>\n",
       "      <th>Answer__No</th>\n",
       "      <th>Answer__Yes</th>\n",
       "    </tr>\n",
       "  </thead>\n",
       "  <tbody>\n",
       "    <tr>\n",
       "      <th>0</th>\n",
       "      <td>0.230742</td>\n",
       "      <td>0.115371</td>\n",
       "      <td>0</td>\n",
       "      <td>1</td>\n",
       "      <td>0</td>\n",
       "      <td>0</td>\n",
       "      <td>1</td>\n",
       "    </tr>\n",
       "    <tr>\n",
       "      <th>2</th>\n",
       "      <td>0.000000</td>\n",
       "      <td>0.000000</td>\n",
       "      <td>0</td>\n",
       "      <td>1</td>\n",
       "      <td>0</td>\n",
       "      <td>0</td>\n",
       "      <td>1</td>\n",
       "    </tr>\n",
       "    <tr>\n",
       "      <th>3</th>\n",
       "      <td>1497.699982</td>\n",
       "      <td>0.388752</td>\n",
       "      <td>1</td>\n",
       "      <td>0</td>\n",
       "      <td>1</td>\n",
       "      <td>1</td>\n",
       "      <td>0</td>\n",
       "    </tr>\n",
       "    <tr>\n",
       "      <th>4</th>\n",
       "      <td>1439.464988</td>\n",
       "      <td>0.373646</td>\n",
       "      <td>1</td>\n",
       "      <td>0</td>\n",
       "      <td>1</td>\n",
       "      <td>1</td>\n",
       "      <td>0</td>\n",
       "    </tr>\n",
       "    <tr>\n",
       "      <th>5</th>\n",
       "      <td>5.000000</td>\n",
       "      <td>0.192000</td>\n",
       "      <td>0</td>\n",
       "      <td>1</td>\n",
       "      <td>0</td>\n",
       "      <td>0</td>\n",
       "      <td>1</td>\n",
       "    </tr>\n",
       "    <tr>\n",
       "      <th>...</th>\n",
       "      <td>...</td>\n",
       "      <td>...</td>\n",
       "      <td>...</td>\n",
       "      <td>...</td>\n",
       "      <td>...</td>\n",
       "      <td>...</td>\n",
       "      <td>...</td>\n",
       "    </tr>\n",
       "    <tr>\n",
       "      <th>624</th>\n",
       "      <td>1831.259947</td>\n",
       "      <td>0.475272</td>\n",
       "      <td>1</td>\n",
       "      <td>0</td>\n",
       "      <td>1</td>\n",
       "      <td>1</td>\n",
       "      <td>0</td>\n",
       "    </tr>\n",
       "    <tr>\n",
       "      <th>625</th>\n",
       "      <td>1051.115796</td>\n",
       "      <td>0.272914</td>\n",
       "      <td>1</td>\n",
       "      <td>0</td>\n",
       "      <td>1</td>\n",
       "      <td>1</td>\n",
       "      <td>0</td>\n",
       "    </tr>\n",
       "    <tr>\n",
       "      <th>626</th>\n",
       "      <td>3.000000</td>\n",
       "      <td>0.750000</td>\n",
       "      <td>0</td>\n",
       "      <td>1</td>\n",
       "      <td>0</td>\n",
       "      <td>1</td>\n",
       "      <td>0</td>\n",
       "    </tr>\n",
       "    <tr>\n",
       "      <th>627</th>\n",
       "      <td>1.000000</td>\n",
       "      <td>0.743904</td>\n",
       "      <td>0</td>\n",
       "      <td>1</td>\n",
       "      <td>0</td>\n",
       "      <td>0</td>\n",
       "      <td>1</td>\n",
       "    </tr>\n",
       "    <tr>\n",
       "      <th>629</th>\n",
       "      <td>1104.827490</td>\n",
       "      <td>0.411368</td>\n",
       "      <td>0</td>\n",
       "      <td>0</td>\n",
       "      <td>1</td>\n",
       "      <td>1</td>\n",
       "      <td>0</td>\n",
       "    </tr>\n",
       "  </tbody>\n",
       "</table>\n",
       "<p>461 rows × 7 columns</p>\n",
       "</div>"
      ],
      "text/plain": [
       "           Count  Percentage  Segment_type__mobile  Segment_type__university  \\\n",
       "0       0.230742    0.115371                     0                         1   \n",
       "2       0.000000    0.000000                     0                         1   \n",
       "3    1497.699982    0.388752                     1                         0   \n",
       "4    1439.464988    0.373646                     1                         0   \n",
       "5       5.000000    0.192000                     0                         1   \n",
       "..           ...         ...                   ...                       ...   \n",
       "624  1831.259947    0.475272                     1                         0   \n",
       "625  1051.115796    0.272914                     1                         0   \n",
       "626     3.000000    0.750000                     0                         1   \n",
       "627     1.000000    0.743904                     0                         1   \n",
       "629  1104.827490    0.411368                     0                         0   \n",
       "\n",
       "     Segment_description__1  Answer__No  Answer__Yes  \n",
       "0                         0           0            1  \n",
       "2                         0           0            1  \n",
       "3                         1           1            0  \n",
       "4                         1           1            0  \n",
       "5                         0           0            1  \n",
       "..                      ...         ...          ...  \n",
       "624                       1           1            0  \n",
       "625                       1           1            0  \n",
       "626                       0           1            0  \n",
       "627                       0           0            1  \n",
       "629                       1           1            0  \n",
       "\n",
       "[461 rows x 7 columns]"
      ]
     },
     "execution_count": 107,
     "metadata": {},
     "output_type": "execute_result"
    }
   ],
   "source": [
    "# Drop column 'ID'\n",
    "X_test_encoded = X_test_encoded.drop(columns=['ID'])\n",
    "X_test_encoded"
   ]
  },
  {
   "cell_type": "markdown",
   "id": "b537ca4e-a7c1-4b5b-b5a0-6d0792540aad",
   "metadata": {},
   "source": [
    "## Predicting the result over the test data\n",
    "---"
   ]
  },
  {
   "cell_type": "code",
   "execution_count": 108,
   "id": "168a353b-a4ea-4604-9f0e-1cac008e42b6",
   "metadata": {},
   "outputs": [
    {
     "data": {
      "text/html": [
       "<div>\n",
       "<style scoped>\n",
       "    .dataframe tbody tr th:only-of-type {\n",
       "        vertical-align: middle;\n",
       "    }\n",
       "\n",
       "    .dataframe tbody tr th {\n",
       "        vertical-align: top;\n",
       "    }\n",
       "\n",
       "    .dataframe thead th {\n",
       "        text-align: right;\n",
       "    }\n",
       "</style>\n",
       "<table border=\"1\" class=\"dataframe\">\n",
       "  <thead>\n",
       "    <tr style=\"text-align: right;\">\n",
       "      <th></th>\n",
       "      <th>ID</th>\n",
       "      <th>Segment type</th>\n",
       "      <th>Segment Description</th>\n",
       "      <th>Answer</th>\n",
       "      <th>Count</th>\n",
       "      <th>Percentage</th>\n",
       "      <th>Predicted_Relationship_status</th>\n",
       "    </tr>\n",
       "  </thead>\n",
       "  <tbody>\n",
       "    <tr>\n",
       "      <th>0</th>\n",
       "      <td>292974.2311</td>\n",
       "      <td>university</td>\n",
       "      <td>0</td>\n",
       "      <td>Yes</td>\n",
       "      <td>0.230742</td>\n",
       "      <td>0.115371</td>\n",
       "      <td>1</td>\n",
       "    </tr>\n",
       "    <tr>\n",
       "      <th>2</th>\n",
       "      <td>293724.0350</td>\n",
       "      <td>university</td>\n",
       "      <td>0</td>\n",
       "      <td>Yes</td>\n",
       "      <td>0.000000</td>\n",
       "      <td>0.000000</td>\n",
       "      <td>1</td>\n",
       "    </tr>\n",
       "    <tr>\n",
       "      <th>3</th>\n",
       "      <td>292884.0724</td>\n",
       "      <td>mobile</td>\n",
       "      <td>1</td>\n",
       "      <td>No</td>\n",
       "      <td>1497.699982</td>\n",
       "      <td>0.388752</td>\n",
       "      <td>0</td>\n",
       "    </tr>\n",
       "    <tr>\n",
       "      <th>4</th>\n",
       "      <td>292882.0964</td>\n",
       "      <td>mobile</td>\n",
       "      <td>1</td>\n",
       "      <td>No</td>\n",
       "      <td>1439.464988</td>\n",
       "      <td>0.373646</td>\n",
       "      <td>0</td>\n",
       "    </tr>\n",
       "    <tr>\n",
       "      <th>5</th>\n",
       "      <td>292971.0000</td>\n",
       "      <td>university</td>\n",
       "      <td>0</td>\n",
       "      <td>Yes</td>\n",
       "      <td>5.000000</td>\n",
       "      <td>0.192000</td>\n",
       "      <td>1</td>\n",
       "    </tr>\n",
       "  </tbody>\n",
       "</table>\n",
       "</div>"
      ],
      "text/plain": [
       "            ID Segment type Segment Description Answer        Count  \\\n",
       "0  292974.2311   university                   0    Yes     0.230742   \n",
       "2  293724.0350   university                   0    Yes     0.000000   \n",
       "3  292884.0724       mobile                   1     No  1497.699982   \n",
       "4  292882.0964       mobile                   1     No  1439.464988   \n",
       "5  292971.0000   university                   0    Yes     5.000000   \n",
       "\n",
       "   Percentage  Predicted_Relationship_status  \n",
       "0    0.115371                              1  \n",
       "2    0.000000                              1  \n",
       "3    0.388752                              0  \n",
       "4    0.373646                              0  \n",
       "5    0.192000                              1  "
      ]
     },
     "execution_count": 108,
     "metadata": {},
     "output_type": "execute_result"
    }
   ],
   "source": [
    "Relationship_Status_Predict = knn.predict(X_test_encoded)\n",
    "df_class_test['Predicted_Relationship_status']= Relationship_Status_Predict\n",
    "df_class_test.head()"
   ]
  },
  {
   "cell_type": "markdown",
   "id": "1a72404c-7234-4af4-a600-93265b78c834",
   "metadata": {},
   "source": [
    "## We have the predicted data in the column 'Predicted_Relationship_status' as per the KNN model classifier\n",
    "---"
   ]
  }
 ],
 "metadata": {
  "kernelspec": {
   "display_name": "Python 3 (ipykernel)",
   "language": "python",
   "name": "python3"
  },
  "language_info": {
   "codemirror_mode": {
    "name": "ipython",
    "version": 3
   },
   "file_extension": ".py",
   "mimetype": "text/x-python",
   "name": "python",
   "nbconvert_exporter": "python",
   "pygments_lexer": "ipython3",
   "version": "3.10.9"
  }
 },
 "nbformat": 4,
 "nbformat_minor": 5
}
